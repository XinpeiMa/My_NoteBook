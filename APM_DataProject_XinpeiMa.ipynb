{
  "nbformat": 4,
  "nbformat_minor": 0,
  "metadata": {
    "colab": {
      "name": "APM_DataProject_XinpeiMa.ipynb",
      "provenance": [],
      "collapsed_sections": [],
      "machine_shape": "hm",
      "include_colab_link": true
    },
    "kernelspec": {
      "name": "python3",
      "language": "python",
      "display_name": "Python 3"
    },
    "pycharm": {
      "stem_cell": {
        "cell_type": "raw",
        "source": [],
        "metadata": {
          "collapsed": false
        }
      }
    },
    "accelerator": "TPU"
  },
  "cells": [
    {
      "cell_type": "markdown",
      "metadata": {
        "id": "view-in-github",
        "colab_type": "text"
      },
      "source": [
        "<a href=\"https://colab.research.google.com/github/XinpeiMa/My_NoteBook/blob/master/APM_DataProject_XinpeiMa.ipynb\" target=\"_parent\"><img src=\"https://colab.research.google.com/assets/colab-badge.svg\" alt=\"Open In Colab\"/></a>"
      ]
    },
    {
      "cell_type": "markdown",
      "metadata": {
        "id": "yqPTay2HIRW8",
        "colab_type": "text"
      },
      "source": [
        "# APM Data Project\n",
        "\n",
        "Student: Xinpei Ma (N16678739)"
      ]
    },
    {
      "cell_type": "markdown",
      "metadata": {
        "id": "mYvRXpauTi5D",
        "colab_type": "text"
      },
      "source": [
        "## (0) Data pre-processing\n",
        "- adjust datatype\n",
        "- sort date\n",
        "- count unique tickers"
      ]
    },
    {
      "cell_type": "code",
      "metadata": {
        "id": "ZOgxTI3xTa_b",
        "colab_type": "code",
        "pycharm": {
          "is_executing": false
        },
        "colab": {}
      },
      "source": [
        "import pandas as pd\n",
        "import numpy as np\n",
        "import random\n",
        "from functools import reduce\n",
        "import matplotlib.pylab as plt\n",
        "import seaborn as sns\n",
        "import statsmodels.api as sm\n",
        "from scipy.optimize import minimize\n",
        "random.seed(30)\n",
        "sns.set_style(\"darkgrid\")\n",
        "import warnings\n",
        "warnings.filterwarnings(\"ignore\")\n",
        "plt.figure(figsize=(15,9))\n",
        "%pylab inline"
      ],
      "execution_count": 0,
      "outputs": []
    },
    {
      "cell_type": "code",
      "metadata": {
        "id": "3X3e--MiZ40o",
        "colab_type": "code",
        "colab": {}
      },
      "source": [
        "from google.colab import drive\n",
        "drive.mount('/content/drive')"
      ],
      "execution_count": 0,
      "outputs": []
    },
    {
      "cell_type": "code",
      "metadata": {
        "pycharm": {
          "name": "#%%\n",
          "is_executing": false
        },
        "id": "vduGCkmaZuyW",
        "colab_type": "code",
        "colab": {}
      },
      "source": [
        "# Parameters\n",
        "path = \"drive/My Drive/My Classes/APM/DataProject/prices.csv\"\n",
        "annual_r = 0.015\n",
        "r = (annual_r + 1) ** (1. / 365.) - 1. # daily risk-less rate of return"
      ],
      "execution_count": 0,
      "outputs": []
    },
    {
      "cell_type": "code",
      "metadata": {
        "pycharm": {
          "name": "#%%\n",
          "is_executing": false
        },
        "id": "G_a0O3anZuyb",
        "colab_type": "code",
        "colab": {}
      },
      "source": [
        "def change_str_to_float(x):\n",
        "    if x == \".\":\n",
        "        return 0.\n",
        "    return float(x)"
      ],
      "execution_count": 0,
      "outputs": []
    },
    {
      "cell_type": "code",
      "metadata": {
        "pycharm": {
          "name": "#%%\n",
          "is_executing": false
        },
        "id": "EIIaj0GcZuyf",
        "colab_type": "code",
        "colab": {}
      },
      "source": [
        "df = pd.read_csv(path, header=0)\n",
        "df = df.loc[df.PRC != 'PRC', :]\n",
        "df['TICKER'] = df['TICKER'].astype(str)\n",
        "df['date'] = df['date'].astype(str)\n",
        "df['PRC'] = df['PRC'].apply(lambda x: change_str_to_float(x))\n",
        "df['VOL'] = df['VOL'].apply(lambda x: change_str_to_float(x))\n",
        "tickers = df.TICKER.unique().tolist()\n",
        "df.set_index('date', inplace=True)\n",
        "df.date = df.index\n",
        "df['Date'] = pd.to_datetime(df.date)\n",
        "df.sort_values(by='Date')\n",
        "print(df.TICKER.unique().tolist())\n",
        "print(len(df.TICKER.unique().tolist()))"
      ],
      "execution_count": 0,
      "outputs": []
    },
    {
      "cell_type": "markdown",
      "metadata": {
        "collapsed": false,
        "id": "3Et69lslZuyi",
        "colab_type": "text"
      },
      "source": [
        "## (1) compute $v_t$ signal\n",
        "\n",
        "#### Rolling window out-of-sample forecasting\n",
        "\n",
        "- In order to compute $\\beta$, I implemented a rolling window out-of-sample approach that using a fixed number of the most recent data（i.e., 66 days) at each point of time. I examined the variance and bias value of applying different window size. Finally, I found that window size 66 yielded the best result (with minimal total error). \n",
        "\n",
        "- The beta that we get from regressing of asset's returns on the returns of the market represents the sensitivity of an asset's return stream to market-wide shocks, therefore $v_t$ represents a signal of stock idiosyncratic risk signal.\n"
      ]
    },
    {
      "cell_type": "code",
      "metadata": {
        "pycharm": {
          "name": "#%%\n",
          "is_executing": false
        },
        "id": "w2J4LhBkZuyj",
        "colab_type": "code",
        "colab": {}
      },
      "source": [
        "def calc_residual_reversion_signal(tk, df, window_size, r):\n",
        "    SPY = df.loc[df['TICKER'] == 'SPY', ['PRC', 'VOL']]\n",
        "    SPY.columns = [\"SPY_PRC\", \"SPY_VOL\"]\n",
        "    Stock = df.loc[df['TICKER'] == tk, ['PRC', 'VOL']]\n",
        "    merged = pd.merge(left=SPY, right=Stock, right_index=True, left_index=True, how='outer')\n",
        "    merged['stock_ret'] = np.log(merged.PRC) - np.log(merged.PRC.shift(1))\n",
        "    merged['market_ret'] = np.log(merged.SPY_PRC) - np.log(merged.SPY_PRC.shift(1))\n",
        "    cov = merged.stock_ret.rolling(window_size).cov(merged.market_ret.rolling(window_size))\n",
        "    var = merged.market_ret.rolling(window_size).var()\n",
        "    merged['beta'] = cov / var\n",
        "    merged['temp'] = merged['stock_ret'] - merged['market_ret'] * merged['beta']\n",
        "    merged['vt'] = merged['temp'].shift(1)\n",
        "    merged.drop(columns=['temp'], inplace=True)\n",
        "    return merged"
      ],
      "execution_count": 0,
      "outputs": []
    },
    {
      "cell_type": "markdown",
      "metadata": {
        "collapsed": false,
        "pycharm": {
          "name": "#%% md\n",
          "is_executing": false
        },
        "id": "PwUtovdmZuyl",
        "colab_type": "text"
      },
      "source": [
        "#### Find Optimal Rolling Window Size by Checking out-of-sample Variance and Bias"
      ]
    },
    {
      "cell_type": "code",
      "metadata": {
        "pycharm": {
          "name": "#%%\n",
          "is_executing": false
        },
        "id": "KZQ6CVusZuyl",
        "colab_type": "code",
        "colab": {}
      },
      "source": [
        "windows = [22, 66, 132, 154, 176, 225, 500]\n",
        "bias_list = []\n",
        "variance_list = []\n",
        "for i in range(len(windows)):\n",
        "    print(\"Windows {} days\".format(windows[i]))\n",
        "    bias_res = 0.0\n",
        "    var_res = 0.0\n",
        "    count = 0\n",
        "    for ticker in tickers:\n",
        "        if ticker != 'SPY':\n",
        "            residual_reversion_df = calc_residual_reversion_signal(ticker, df, windows[i], r)\n",
        "            residual_reversion_df = residual_reversion_df.loc[residual_reversion_df['vt'].notnull(), :]\n",
        "\n",
        "            pred = residual_reversion_df['market_ret'] * residual_reversion_df['beta']\n",
        "            real = residual_reversion_df['stock_ret']\n",
        "            variance = np.mean(np.square(pred - pred.mean()))\n",
        "            # sum(real - E[predictced])^2\n",
        "            bias = np.mean(np.square(real - pred.mean()))\n",
        "            # sum(predicted - E[predictced])^2\n",
        "            if np.isfinite(variance) and np.isfinite(bias):\n",
        "                bias_res += bias\n",
        "                var_res += variance\n",
        "                count += 1\n",
        "\n",
        "    variance_list.append(var_res/count)\n",
        "    bias_list.append(bias_res/count)\n",
        "    "
      ],
      "execution_count": 0,
      "outputs": []
    },
    {
      "cell_type": "code",
      "metadata": {
        "pycharm": {
          "name": "#%%\n",
          "is_executing": false
        },
        "id": "G7cejYcPZuyo",
        "colab_type": "code",
        "colab": {}
      },
      "source": [
        "print(bias_list, variance_list)\n",
        "plot_df = pd.DataFrame({\"bias\": bias_list, \"variance\": variance_list}, index=[str(x) + \"d\" for x in windows])\n",
        "plot_df['total_error'] = plot_df.bias + plot_df.variance\n",
        "print(plot_df)\n",
        "fig, ax = plt.subplots(figsize=(16,9))\n",
        "ax.plot(plot_df.bias, 'o-', linewidth=2, markersize=6, label=\"bias\", alpha=0.5)\n",
        "ax.plot(plot_df.variance, 'o-', linewidth=2, markersize=6, label='variance', alpha=0.5)\n",
        "ax.plot(plot_df.total_error, 'o-', linewidth=2, markersize=6, label='total error')\n",
        "ax.plot(1, plot_df.total_error.min(), marker='o', markersize=6, color=\"red\", label='minimal')\n",
        "ax.set_xticklabels(plot_df.index.tolist())\n",
        "ax.legend()\n",
        "plt.show()"
      ],
      "execution_count": 0,
      "outputs": []
    },
    {
      "cell_type": "markdown",
      "metadata": {
        "collapsed": false,
        "pycharm": {
          "name": "#%% md\n"
        },
        "id": "0JE9QlFoZuyr",
        "colab_type": "text"
      },
      "source": [
        "From the above experiment, we select rolling window size 132 days, because it seems like the best variance-bias trade-off."
      ]
    },
    {
      "cell_type": "code",
      "metadata": {
        "id": "ALfptD1FjQID",
        "colab_type": "code",
        "pycharm": {
          "is_executing": false
        },
        "colab": {}
      },
      "source": [
        "rolling_window = 66"
      ],
      "execution_count": 0,
      "outputs": []
    },
    {
      "cell_type": "markdown",
      "metadata": {
        "id": "_TJDkohOxQKR",
        "colab_type": "text"
      },
      "source": [
        "#### An example of $v_t$ signal computed using 66 days rolling window"
      ]
    },
    {
      "cell_type": "code",
      "metadata": {
        "id": "3jgo-rXOU9va",
        "colab_type": "code",
        "pycharm": {
          "is_executing": false
        },
        "colab": {}
      },
      "source": [
        "stock_signal_df = calc_residual_reversion_signal(\"IBM\", df, rolling_window, r)\n",
        "display(stock_signal_df)"
      ],
      "execution_count": 0,
      "outputs": []
    },
    {
      "cell_type": "markdown",
      "metadata": {
        "id": "GzyQgtYDZWvF",
        "colab_type": "text"
      },
      "source": [
        "#### Does $v_t^1$ predict $r_{t, t+1}^i$ and $r_{t+1, t+2}^i$ etc.?\n",
        "\n",
        "I checked the $R^2$ and $p$ value between $v_t^1$ and $r_{t, t+1}^i$ and the  $R^2$ and $p$ between $v_t^1$ and $r_{t+1, t+2}^i$"
      ]
    },
    {
      "cell_type": "code",
      "metadata": {
        "id": "g_exXKiReSOW",
        "colab_type": "code",
        "pycharm": {
          "is_executing": false
        },
        "colab": {}
      },
      "source": [
        "def measure_predictive_capacity(df, x, y, time_lag):\n",
        "\t# if paired x, y if any value in x or y is none then exclude it\n",
        "\tdef remove_nan(x, y):\n",
        "\t\tpairs = []\n",
        "\t\tfor i in range(len(x)):\n",
        "\t\t\tif np.isnan(x[i]) or np.isnan(y[i]):\n",
        "\t\t\t\tcontinue\n",
        "\t\t\tpairs.append((x[i], y[i]))\n",
        "\t\treturn pairs\n",
        "\t\t\n",
        "    # test on out-of-sample part\n",
        "\tout_sample = df.loc[df[y].notnull(), :]\n",
        "\tout_sample['shift'] = out_sample.loc[:, x].shift(periods=time_lag)\n",
        "\txy = remove_nan(np.array(out_sample['shift'].values, dtype=np.float64), \n",
        "                    np.array(out_sample[y].values, dtype=np.float64))\n",
        "\tif len(xy) > 10:\n",
        "\t\tmodel = sm.OLS([i[0] for i in xy], [i[1] for i in xy])\n",
        "\t\tresults = model.fit()\n",
        "\t\treturn results.rsquared, results.pvalues[0]\n",
        "\treturn None, None"
      ],
      "execution_count": 0,
      "outputs": []
    },
    {
      "cell_type": "code",
      "metadata": {
        "id": "i2o7ghZ8hiXG",
        "colab_type": "code",
        "pycharm": {
          "is_executing": false
        },
        "colab": {}
      },
      "source": [
        "df_map = {}\n",
        "for ticker in tickers:\n",
        "    stock_signal_df = calc_residual_reversion_signal(ticker, df, rolling_window, r)\n",
        "    df_map[ticker] = stock_signal_df\n",
        "print(df_map.keys())"
      ],
      "execution_count": 0,
      "outputs": []
    },
    {
      "cell_type": "code",
      "metadata": {
        "pycharm": {
          "name": "#%%\n",
          "is_executing": false
        },
        "id": "1e7el374Zuyz",
        "colab_type": "code",
        "colab": {}
      },
      "source": [
        "time_lag_1, time_lag_2 = -1, -2\n",
        "time_lag_dependency_results = {}\n",
        "\n",
        "for ticker in tickers:\n",
        "    if ticker != 'SPY':\n",
        "        res = {}\n",
        "        stock_signal_df = df_map[ticker]\n",
        "        r_square_1, p_value_1 = measure_predictive_capacity(stock_signal_df, 'stock_ret', 'vt', time_lag_1)\n",
        "        r_square_2, p_value_2 = measure_predictive_capacity(stock_signal_df, 'stock_ret', 'vt', time_lag_2)\n",
        "        \n",
        "        if len((stock_signal_df['beta'].values.tolist())) > 1:\n",
        "            res['beta'] = stock_signal_df['beta'].values.tolist()[-1]\n",
        "            res['lag_1_rsquare'] = r_square_1\n",
        "            res['lag_1_pvalue'] = p_value_1\n",
        "            res['lag_2_rsquare'] = r_square_2\n",
        "            res['lag_2_pvalue'] = p_value_2\n",
        "\n",
        "        time_lag_dependency_results[ticker] = res\n",
        "    \n",
        "\n",
        "data = []\n",
        "for k, v in time_lag_dependency_results.items():\n",
        "    data.append([k] + list(v.values()))\n",
        "res = pd.DataFrame(data,  columns = ['ticker', 'beta', '1_step_rsquare', '1_step_p', '2_step_rsquare', '2_step_p']) \n",
        "res = np.round(res, decimals=2)\n",
        "\n",
        "print(time_lag_dependency_results)"
      ],
      "execution_count": 0,
      "outputs": []
    },
    {
      "cell_type": "code",
      "metadata": {
        "id": "lVxXpmeCpGt9",
        "colab_type": "code",
        "pycharm": {
          "is_executing": false
        },
        "colab": {}
      },
      "source": [
        "print(res.loc[:, ['1_step_rsquare', '1_step_p', '2_step_rsquare', '2_step_p']].describe())"
      ],
      "execution_count": 0,
      "outputs": []
    },
    {
      "cell_type": "markdown",
      "metadata": {
        "id": "BtIgZRSskzST",
        "colab_type": "text"
      },
      "source": [
        "- From the statistic results, I found that the generated signal $v_t$ doesnt have significantly association between future returns (lag 1 and lag 2) based on the observation that the average $p$ value is very high (around 0.2). \n",
        "- The association between \n",
        " $v_t$ and $r_{t+1}$ is usually very close to the association between $v_t$ and $r_{t+2}$. Slideghtly larger $R^2$ of $v_t$ and $r_{t+2}$ indicate the mean-reverting pattern."
      ]
    },
    {
      "cell_type": "markdown",
      "metadata": {
        "id": "gYF8tClXpUco",
        "colab_type": "text"
      },
      "source": [
        "## (2) Create the corresponding Markowitz portfolio and track its performance\n",
        "\n",
        "#### Basic Assumptions: \n",
        "- We assumed that investors are able to trade without delay or cost.\n",
        "- We assumed that all investors are \"mean-variance optimizers\". What this essentially means is that they would only \n",
        "demand portfolios that have the highest return attainable for a given level of risk. \n",
        "- Here, I only consider long only portfolio in order to simplify borrow/lend procedure."
      ]
    },
    {
      "cell_type": "markdown",
      "metadata": {
        "collapsed": false,
        "id": "TPt8W2QJZuy2",
        "colab_type": "text"
      },
      "source": [
        "Data Preparation for Portfolio Construction"
      ]
    },
    {
      "cell_type": "code",
      "metadata": {
        "id": "x_36VJKEL9lk",
        "colab_type": "code",
        "pycharm": {
          "is_executing": false
        },
        "colab": {}
      },
      "source": [
        "selected_df_list = []\n",
        "for ticker in df_map.keys():\n",
        "    temp_df = df_map[ticker]\n",
        "    temp_df_vt = temp_df.loc[temp_df['vt'].notnull(), ['stock_ret', 'beta', 'vt', 'PRC', 'VOL']].copy()\n",
        "    temp_df_vt = temp_df_vt.loc[~temp_df_vt.index.duplicated(keep='first')]\n",
        "    temp_df_vt.columns = [ticker + '_ret', ticker + '_beta', ticker + '_vt', ticker + \"_prc\", ticker + \"_vol\"]\n",
        "    selected_df_list.append(temp_df_vt)\n",
        "vt_df = reduce(lambda x, y: pd.merge(x, y, left_index=True, right_index=True, how='outer'), selected_df_list)\n",
        "print(vt_df.columns)\n",
        "print(\"{} of stocks are included\".format(len(selected_df_list)))"
      ],
      "execution_count": 0,
      "outputs": []
    },
    {
      "cell_type": "code",
      "metadata": {
        "id": "TQhcZNJQsHqk",
        "colab_type": "code",
        "pycharm": {
          "is_executing": false
        },
        "colab": {}
      },
      "source": [
        "SPY_var = df.loc[df.TICKER == \"SPY\", 'PRC'].rolling(rolling_window).var()\n",
        "SPY_mean = df.loc[df.TICKER == \"SPY\", 'PRC'].rolling(rolling_window).mean()\n",
        "SPY_ = pd.concat([SPY_mean, SPY_var], axis=1)\n",
        "SPY_.columns = ['SPY_mean', 'SPY_var']"
      ],
      "execution_count": 0,
      "outputs": []
    },
    {
      "cell_type": "code",
      "metadata": {
        "id": "E47g1CTXVHl9",
        "colab_type": "code",
        "pycharm": {
          "is_executing": false
        },
        "colab": {}
      },
      "source": [
        "portfolio_prep_df = vt_df.merge(SPY_, left_index=True, right_index=True, how='left')\n",
        "prep_cols = portfolio_prep_df.columns\n",
        "for col in prep_cols:\n",
        "    if col[-3:] == '_vt':\n",
        "        portfolio_prep_df[col + '_var'] = portfolio_prep_df[col].rolling(rolling_window).var()\n",
        "portfolio_prep_df = portfolio_prep_df.drop_duplicates()"
      ],
      "execution_count": 0,
      "outputs": []
    },
    {
      "cell_type": "code",
      "metadata": {
        "pycharm": {
          "name": "#%%\n",
          "is_executing": false
        },
        "id": "AfD1MAB7Zuy8",
        "colab_type": "code",
        "colab": {}
      },
      "source": [
        "all_dates = portfolio_prep_df.index.unique().tolist()"
      ],
      "execution_count": 0,
      "outputs": []
    },
    {
      "cell_type": "markdown",
      "metadata": {
        "collapsed": false,
        "pycharm": {
          "name": "#%% md\n"
        },
        "id": "mpLFcv03Zuy9",
        "colab_type": "text"
      },
      "source": [
        "Based on our slides, we compute the risk tolerance as\n",
        "$\\kappa_M = \\frac{\\mathbb{E}R_M -  \\mu_0}{\\mathbb{Var} R_M}$.\n",
        "Weights $w$ satisfies constrained $\\sum_i{w_i} =1$ and $w_i \\in [0, 1]$.\n"
      ]
    },
    {
      "cell_type": "code",
      "metadata": {
        "pycharm": {
          "name": "#%%\n",
          "is_executing": false
        },
        "id": "LjPxq-4DZuy-",
        "colab_type": "code",
        "colab": {}
      },
      "source": [
        "def compute_covariance(date, prep_df):\n",
        "    vt_vars, betas, returns, included_tickers = [], [], [], []\n",
        "\n",
        "    for tk in df_map.keys():\n",
        "        try:\n",
        "            beta, vt_var, ret = prep_df.at[date, tk + '_beta'], \\\n",
        "                                prep_df.at[date, tk + '_vt_var']/rolling_window, \\\n",
        "                                prep_df.at[date, tk + '_ret']\n",
        "            if np.isfinite(beta) and np.isfinite(vt_var) and np.isfinite(ret):\n",
        "                betas.append(beta)\n",
        "                vt_vars.append(vt_var)\n",
        "                returns.append(ret)\n",
        "                included_tickers.append(tk)\n",
        "        except:\n",
        "            continue\n",
        "\n",
        "    betas = np.array(betas).reshape(-1, 1)\n",
        "    SPY_var = prep_df.at[date, 'SPY_var'] / rolling_window\n",
        "    cov = betas.dot(betas.transpose()) * SPY_var + np.diag(np.array(vt_vars))\n",
        "    return [cov, np.array(returns), included_tickers]"
      ],
      "execution_count": 0,
      "outputs": []
    },
    {
      "cell_type": "code",
      "metadata": {
        "id": "bveMAB6Bu9cz",
        "colab_type": "code",
        "pycharm": {
          "is_executing": false
        },
        "colab": {}
      },
      "source": [
        "def get_markovitz_weights(date, prep_df, r):\n",
        "    cov, rets, tks = compute_covariance(date, prep_df)\n",
        "    risk_adjusted_returns = np.array(rets) - np.ones(len(rets)) * r\n",
        "    SPY_var = prep_df.at[date, 'SPY_var'] / rolling_window\n",
        "    kappa = (prep_df.at[date, 'SPY_mean'] - r)/ SPY_var\n",
        "    def objective(w):\n",
        "        return 0.5 * kappa * w.transpose().dot(cov).dot(w) - np.dot(w, risk_adjusted_returns) \n",
        "\n",
        "    w0 = [1.0/len(risk_adjusted_returns) for _ in range(len(risk_adjusted_returns))]\n",
        "    e = np.ones(len(risk_adjusted_returns))\n",
        "    bnds = [(0., 1.) for _ in range(len(risk_adjusted_returns))]\n",
        "    const = ({'type': 'eq', 'fun': lambda w: np.dot(w, e) - 1.})\n",
        "    try:\n",
        "        solution = minimize(fun=objective, x0=w0, method='SLSQP', bounds=bnds, constraints=const)\n",
        "        w = solution.x.round(6)\n",
        "    except:\n",
        "        w = None\n",
        "    return tks, w"
      ],
      "execution_count": 0,
      "outputs": []
    },
    {
      "cell_type": "code",
      "metadata": {
        "pycharm": {
          "name": "#%%\n",
          "is_executing": false
        },
        "id": "nMzPM_64ZuzA",
        "colab_type": "code",
        "colab": {}
      },
      "source": [
        "def get_next_day(date):\n",
        "    curr_index = all_dates.index(date)\n",
        "    return all_dates[curr_index + 1] if curr_index + 1 < len(all_dates) else None"
      ],
      "execution_count": 0,
      "outputs": []
    },
    {
      "cell_type": "code",
      "metadata": {
        "pycharm": {
          "name": "#%%\n",
          "is_executing": false
        },
        "id": "b4cZnco8ZuzB",
        "colab_type": "code",
        "colab": {}
      },
      "source": [
        "def calc_portfolio_ret(date, weights, tks, df):\n",
        "    rets = []\n",
        "    for tk in tks:\n",
        "        rets.append(df.at[date, tk + \"_ret\"])\n",
        "    portfolio_return = np.array(rets).dot(weights)\n",
        "    return portfolio_return"
      ],
      "execution_count": 0,
      "outputs": []
    },
    {
      "cell_type": "code",
      "metadata": {
        "id": "W-LLdALQyqjh",
        "colab_type": "code",
        "colab": {}
      },
      "source": [
        "def MDD(xs):\n",
        "    # maximum drawdown\n",
        "    i = np.argmax(np.maximum.accumulate(xs) - xs) # end of the period\n",
        "    j = np.argmax(xs[:i]) # start of period\n",
        "    return abs(xs[i]-xs[j])"
      ],
      "execution_count": 0,
      "outputs": []
    },
    {
      "cell_type": "code",
      "metadata": {
        "id": "_IsEj0JeuUSs",
        "colab_type": "code",
        "pycharm": {
          "is_executing": false
        },
        "colab": {}
      },
      "source": [
        "def track_portfolio_performance(start_date_index, end_date_index):\n",
        "    pnl = 100.\n",
        "    ret = None\n",
        "    portfolio_history = {}\n",
        "    pnl_list = [100.]\n",
        "    for i in range(start_date_index, end_date_index):\n",
        "        curr_day = all_dates[i]\n",
        "        next_day = get_next_day(curr_day)\n",
        "        markovitz_rs = get_markovitz_weights(curr_day, portfolio_prep_df, r)\n",
        "\n",
        "        if markovitz_rs[1] is not None:\n",
        "            curr_tickers, curr_weights = markovitz_rs[0], markovitz_rs[1]\n",
        "            ret = calc_portfolio_ret(next_day, curr_weights, curr_tickers, portfolio_prep_df)\n",
        "            if i == start_date_index:\n",
        "                portfolio_history[curr_day] = [ret, pnl, 0.]\n",
        "        if not np.isfinite(ret):\n",
        "            ret = 0.\n",
        "        pnl *= np.exp(ret)\n",
        "        pnl_list.append(pnl)\n",
        "        try:\n",
        "            portfolio_history[next_day] = [ret, pnl, MDD(pnl_list)]\n",
        "        except:\n",
        "            portfolio_history[next_day] = [ret, pnl, 0]\n",
        "\n",
        "    return portfolio_history"
      ],
      "execution_count": 0,
      "outputs": []
    },
    {
      "cell_type": "markdown",
      "metadata": {
        "collapsed": false,
        "pycharm": {
          "name": "#%% md\n"
        },
        "id": "wpM95V5eZuzF",
        "colab_type": "text"
      },
      "source": [
        "#### Three Experiments\n",
        "Since we have complete out-of-sample data for 2009, 2010 and 2011 due to the rolling window approach. Data for 2008 is not quite complete due to the rolling window procedure.\n",
        "We keep track of the monthly portfolio for the three years."
      ]
    },
    {
      "cell_type": "code",
      "metadata": {
        "id": "HX0J-UngcRqk",
        "colab_type": "code",
        "colab": {}
      },
      "source": [
        "def find_montly_index(year):\n",
        "    monthly_index = {}\n",
        "    for i in range(len(all_dates)):\n",
        "        if all_dates[i][:4] == year:\n",
        "            if all_dates[i][4:6] not in monthly_index:\n",
        "                monthly_index[all_dates[i][4:6]] = []\n",
        "            monthly_index[all_dates[i][4:6]].append(i)\n",
        "    return monthly_index"
      ],
      "execution_count": 0,
      "outputs": []
    },
    {
      "cell_type": "code",
      "metadata": {
        "pycharm": {
          "name": "#%%\n",
          "is_executing": false
        },
        "id": "9g3GpvL1ZuzF",
        "colab_type": "code",
        "colab": {}
      },
      "source": [
        "index_2009 = find_montly_index('2009')\n",
        "print(index_2009)\n",
        "res_2009 = dict()\n",
        "for mo in index_2009.keys():\n",
        "    start, end = min(index_2009[mo]), max(index_2009[mo])\n",
        "    portfolio = track_portfolio_performance(start, end)\n",
        "    portfolio_df = pd.DataFrame.from_dict(portfolio, orient='index')\n",
        "    portfolio_df.columns = [\"ret\", \"pnl\", 'mmd']\n",
        "    res_2009[mo] = []\n",
        "    res_2009[mo].append(portfolio_df['ret'].mean() - r)\n",
        "    res_2009[mo].append(portfolio_df['ret'].std()/np.sqrt(len(index_2009[mo])))\n",
        "    res_2009[mo].append(portfolio_df['mmd'].max())"
      ],
      "execution_count": 0,
      "outputs": []
    },
    {
      "cell_type": "markdown",
      "metadata": {
        "id": "Pdm3FVwQI6X2",
        "colab_type": "text"
      },
      "source": [
        ""
      ]
    },
    {
      "cell_type": "code",
      "metadata": {
        "id": "mG68ohT6qlMp",
        "colab_type": "code",
        "colab": {
          "base_uri": "https://localhost:8080/",
          "height": 902
        },
        "outputId": "7fdeac57-044e-4c7b-acd6-3e568d3a2ea0"
      },
      "source": [
        "df_2009_1 = pd.DataFrame(res_2009, index=['average excess returns', 'vol', 'mmd']).T\n",
        "df_2009_1['sharpe ratio'] = df_2009_1['average excess returns'] / df_2009_1['vol']\n",
        "display(df_2009_1)\n",
        "display(df_2009_1.describe())"
      ],
      "execution_count": 27,
      "outputs": [
        {
          "output_type": "display_data",
          "data": {
            "text/html": [
              "<div>\n",
              "<style scoped>\n",
              "    .dataframe tbody tr th:only-of-type {\n",
              "        vertical-align: middle;\n",
              "    }\n",
              "\n",
              "    .dataframe tbody tr th {\n",
              "        vertical-align: top;\n",
              "    }\n",
              "\n",
              "    .dataframe thead th {\n",
              "        text-align: right;\n",
              "    }\n",
              "</style>\n",
              "<table border=\"1\" class=\"dataframe\">\n",
              "  <thead>\n",
              "    <tr style=\"text-align: right;\">\n",
              "      <th></th>\n",
              "      <th>average excess returns</th>\n",
              "      <th>vol</th>\n",
              "      <th>mmd</th>\n",
              "      <th>sharpe ratio</th>\n",
              "    </tr>\n",
              "  </thead>\n",
              "  <tbody>\n",
              "    <tr>\n",
              "      <th>01</th>\n",
              "      <td>0.579969</td>\n",
              "      <td>0.151852</td>\n",
              "      <td>2.300242</td>\n",
              "      <td>3.819312</td>\n",
              "    </tr>\n",
              "    <tr>\n",
              "      <th>02</th>\n",
              "      <td>0.599056</td>\n",
              "      <td>0.100263</td>\n",
              "      <td>0.000000</td>\n",
              "      <td>5.974827</td>\n",
              "    </tr>\n",
              "    <tr>\n",
              "      <th>03</th>\n",
              "      <td>0.814004</td>\n",
              "      <td>0.129195</td>\n",
              "      <td>0.000000</td>\n",
              "      <td>6.300593</td>\n",
              "    </tr>\n",
              "    <tr>\n",
              "      <th>04</th>\n",
              "      <td>0.185003</td>\n",
              "      <td>0.127062</td>\n",
              "      <td>28.830281</td>\n",
              "      <td>1.456007</td>\n",
              "    </tr>\n",
              "    <tr>\n",
              "      <th>05</th>\n",
              "      <td>0.001815</td>\n",
              "      <td>0.003053</td>\n",
              "      <td>4.610837</td>\n",
              "      <td>0.594688</td>\n",
              "    </tr>\n",
              "    <tr>\n",
              "      <th>06</th>\n",
              "      <td>0.266027</td>\n",
              "      <td>0.118339</td>\n",
              "      <td>4.073553</td>\n",
              "      <td>2.247997</td>\n",
              "    </tr>\n",
              "    <tr>\n",
              "      <th>07</th>\n",
              "      <td>0.328838</td>\n",
              "      <td>0.112796</td>\n",
              "      <td>2588.760492</td>\n",
              "      <td>2.915347</td>\n",
              "    </tr>\n",
              "    <tr>\n",
              "      <th>08</th>\n",
              "      <td>0.001944</td>\n",
              "      <td>0.003631</td>\n",
              "      <td>4.789287</td>\n",
              "      <td>0.535493</td>\n",
              "    </tr>\n",
              "    <tr>\n",
              "      <th>09</th>\n",
              "      <td>0.001999</td>\n",
              "      <td>0.002052</td>\n",
              "      <td>3.545142</td>\n",
              "      <td>0.974331</td>\n",
              "    </tr>\n",
              "    <tr>\n",
              "      <th>10</th>\n",
              "      <td>0.078771</td>\n",
              "      <td>0.076717</td>\n",
              "      <td>8.289380</td>\n",
              "      <td>1.026775</td>\n",
              "    </tr>\n",
              "    <tr>\n",
              "      <th>11</th>\n",
              "      <td>0.072809</td>\n",
              "      <td>0.038005</td>\n",
              "      <td>8.281696</td>\n",
              "      <td>1.915758</td>\n",
              "    </tr>\n",
              "    <tr>\n",
              "      <th>12</th>\n",
              "      <td>0.001492</td>\n",
              "      <td>0.002812</td>\n",
              "      <td>4.602247</td>\n",
              "      <td>0.530647</td>\n",
              "    </tr>\n",
              "  </tbody>\n",
              "</table>\n",
              "</div>"
            ],
            "text/plain": [
              "    average excess returns       vol          mmd  sharpe ratio\n",
              "01                0.579969  0.151852     2.300242      3.819312\n",
              "02                0.599056  0.100263     0.000000      5.974827\n",
              "03                0.814004  0.129195     0.000000      6.300593\n",
              "04                0.185003  0.127062    28.830281      1.456007\n",
              "05                0.001815  0.003053     4.610837      0.594688\n",
              "06                0.266027  0.118339     4.073553      2.247997\n",
              "07                0.328838  0.112796  2588.760492      2.915347\n",
              "08                0.001944  0.003631     4.789287      0.535493\n",
              "09                0.001999  0.002052     3.545142      0.974331\n",
              "10                0.078771  0.076717     8.289380      1.026775\n",
              "11                0.072809  0.038005     8.281696      1.915758\n",
              "12                0.001492  0.002812     4.602247      0.530647"
            ]
          },
          "metadata": {
            "tags": []
          }
        },
        {
          "output_type": "display_data",
          "data": {
            "text/html": [
              "<div>\n",
              "<style scoped>\n",
              "    .dataframe tbody tr th:only-of-type {\n",
              "        vertical-align: middle;\n",
              "    }\n",
              "\n",
              "    .dataframe tbody tr th {\n",
              "        vertical-align: top;\n",
              "    }\n",
              "\n",
              "    .dataframe thead th {\n",
              "        text-align: right;\n",
              "    }\n",
              "</style>\n",
              "<table border=\"1\" class=\"dataframe\">\n",
              "  <thead>\n",
              "    <tr style=\"text-align: right;\">\n",
              "      <th></th>\n",
              "      <th>average excess returns</th>\n",
              "      <th>vol</th>\n",
              "      <th>mmd</th>\n",
              "      <th>sharpe ratio</th>\n",
              "    </tr>\n",
              "  </thead>\n",
              "  <tbody>\n",
              "    <tr>\n",
              "      <th>count</th>\n",
              "      <td>12.000000</td>\n",
              "      <td>12.000000</td>\n",
              "      <td>12.000000</td>\n",
              "      <td>12.000000</td>\n",
              "    </tr>\n",
              "    <tr>\n",
              "      <th>mean</th>\n",
              "      <td>0.244311</td>\n",
              "      <td>0.072148</td>\n",
              "      <td>221.506930</td>\n",
              "      <td>2.357648</td>\n",
              "    </tr>\n",
              "    <tr>\n",
              "      <th>std</th>\n",
              "      <td>0.280621</td>\n",
              "      <td>0.058446</td>\n",
              "      <td>745.530035</td>\n",
              "      <td>2.034912</td>\n",
              "    </tr>\n",
              "    <tr>\n",
              "      <th>min</th>\n",
              "      <td>0.001492</td>\n",
              "      <td>0.002052</td>\n",
              "      <td>0.000000</td>\n",
              "      <td>0.530647</td>\n",
              "    </tr>\n",
              "    <tr>\n",
              "      <th>25%</th>\n",
              "      <td>0.001986</td>\n",
              "      <td>0.003486</td>\n",
              "      <td>3.233917</td>\n",
              "      <td>0.879420</td>\n",
              "    </tr>\n",
              "    <tr>\n",
              "      <th>50%</th>\n",
              "      <td>0.131887</td>\n",
              "      <td>0.088490</td>\n",
              "      <td>4.606542</td>\n",
              "      <td>1.685883</td>\n",
              "    </tr>\n",
              "    <tr>\n",
              "      <th>75%</th>\n",
              "      <td>0.391621</td>\n",
              "      <td>0.120520</td>\n",
              "      <td>8.283617</td>\n",
              "      <td>3.141339</td>\n",
              "    </tr>\n",
              "    <tr>\n",
              "      <th>max</th>\n",
              "      <td>0.814004</td>\n",
              "      <td>0.151852</td>\n",
              "      <td>2588.760492</td>\n",
              "      <td>6.300593</td>\n",
              "    </tr>\n",
              "  </tbody>\n",
              "</table>\n",
              "</div>"
            ],
            "text/plain": [
              "       average excess returns        vol          mmd  sharpe ratio\n",
              "count               12.000000  12.000000    12.000000     12.000000\n",
              "mean                 0.244311   0.072148   221.506930      2.357648\n",
              "std                  0.280621   0.058446   745.530035      2.034912\n",
              "min                  0.001492   0.002052     0.000000      0.530647\n",
              "25%                  0.001986   0.003486     3.233917      0.879420\n",
              "50%                  0.131887   0.088490     4.606542      1.685883\n",
              "75%                  0.391621   0.120520     8.283617      3.141339\n",
              "max                  0.814004   0.151852  2588.760492      6.300593"
            ]
          },
          "metadata": {
            "tags": []
          }
        }
      ]
    },
    {
      "cell_type": "code",
      "metadata": {
        "id": "rH7R1rbUis_C",
        "colab_type": "code",
        "colab": {}
      },
      "source": [
        "index_2010 =  find_montly_index('2010')\n",
        "res_2010 = dict()\n",
        "for mo in index_2010.keys():\n",
        "    start, end = min(index_2010[mo]), max(index_2010[mo])\n",
        "    portfolio = track_portfolio_performance(start, end)\n",
        "    portfolio_df = pd.DataFrame.from_dict(portfolio, orient='index')\n",
        "    portfolio_df.columns = [\"ret\", \"pnl\", 'mmd']\n",
        "    res_2010[mo] = []\n",
        "    res_2010[mo].append(portfolio_df['ret'].mean() - r)\n",
        "    res_2010[mo].append(portfolio_df['ret'].std())\n",
        "    res_2010[mo].append(portfolio_df['mmd'].max())"
      ],
      "execution_count": 0,
      "outputs": []
    },
    {
      "cell_type": "code",
      "metadata": {
        "id": "VhHyDd5Qq8po",
        "colab_type": "code",
        "colab": {
          "base_uri": "https://localhost:8080/",
          "height": 902
        },
        "outputId": "10507c09-6645-402c-db4f-277390e1537e"
      },
      "source": [
        "df_2010_1 = pd.DataFrame(res_2010, index=['average excess returns', 'vol', 'mmd']).T\n",
        "df_2010_1['sharpe ratio'] = df_2010_1['average excess returns'] / df_2010_1['vol']\n",
        "display(df_2010_1)\n",
        "display(df_2010_1.describe())"
      ],
      "execution_count": 29,
      "outputs": [
        {
          "output_type": "display_data",
          "data": {
            "text/html": [
              "<div>\n",
              "<style scoped>\n",
              "    .dataframe tbody tr th:only-of-type {\n",
              "        vertical-align: middle;\n",
              "    }\n",
              "\n",
              "    .dataframe tbody tr th {\n",
              "        vertical-align: top;\n",
              "    }\n",
              "\n",
              "    .dataframe thead th {\n",
              "        text-align: right;\n",
              "    }\n",
              "</style>\n",
              "<table border=\"1\" class=\"dataframe\">\n",
              "  <thead>\n",
              "    <tr style=\"text-align: right;\">\n",
              "      <th></th>\n",
              "      <th>average excess returns</th>\n",
              "      <th>vol</th>\n",
              "      <th>mmd</th>\n",
              "      <th>sharpe ratio</th>\n",
              "    </tr>\n",
              "  </thead>\n",
              "  <tbody>\n",
              "    <tr>\n",
              "      <th>01</th>\n",
              "      <td>0.100665</td>\n",
              "      <td>0.188038</td>\n",
              "      <td>4.917541</td>\n",
              "      <td>0.535342</td>\n",
              "    </tr>\n",
              "    <tr>\n",
              "      <th>02</th>\n",
              "      <td>0.364856</td>\n",
              "      <td>0.177507</td>\n",
              "      <td>0.000000</td>\n",
              "      <td>2.055448</td>\n",
              "    </tr>\n",
              "    <tr>\n",
              "      <th>03</th>\n",
              "      <td>0.164005</td>\n",
              "      <td>0.237528</td>\n",
              "      <td>5.448070</td>\n",
              "      <td>0.690466</td>\n",
              "    </tr>\n",
              "    <tr>\n",
              "      <th>04</th>\n",
              "      <td>0.057889</td>\n",
              "      <td>0.036113</td>\n",
              "      <td>1.688045</td>\n",
              "      <td>1.602993</td>\n",
              "    </tr>\n",
              "    <tr>\n",
              "      <th>05</th>\n",
              "      <td>0.544171</td>\n",
              "      <td>0.787888</td>\n",
              "      <td>65.577764</td>\n",
              "      <td>0.690671</td>\n",
              "    </tr>\n",
              "    <tr>\n",
              "      <th>06</th>\n",
              "      <td>0.297073</td>\n",
              "      <td>0.149229</td>\n",
              "      <td>0.000000</td>\n",
              "      <td>1.990718</td>\n",
              "    </tr>\n",
              "    <tr>\n",
              "      <th>07</th>\n",
              "      <td>0.640515</td>\n",
              "      <td>1.231943</td>\n",
              "      <td>825335.503709</td>\n",
              "      <td>0.519923</td>\n",
              "    </tr>\n",
              "    <tr>\n",
              "      <th>08</th>\n",
              "      <td>0.098921</td>\n",
              "      <td>0.200674</td>\n",
              "      <td>3.148638</td>\n",
              "      <td>0.492943</td>\n",
              "    </tr>\n",
              "    <tr>\n",
              "      <th>09</th>\n",
              "      <td>0.415016</td>\n",
              "      <td>1.448861</td>\n",
              "      <td>16356.995460</td>\n",
              "      <td>0.286443</td>\n",
              "    </tr>\n",
              "    <tr>\n",
              "      <th>10</th>\n",
              "      <td>0.052936</td>\n",
              "      <td>0.038108</td>\n",
              "      <td>2.027311</td>\n",
              "      <td>1.389102</td>\n",
              "    </tr>\n",
              "    <tr>\n",
              "      <th>11</th>\n",
              "      <td>0.041258</td>\n",
              "      <td>0.038804</td>\n",
              "      <td>1.557215</td>\n",
              "      <td>1.063259</td>\n",
              "    </tr>\n",
              "    <tr>\n",
              "      <th>12</th>\n",
              "      <td>0.021103</td>\n",
              "      <td>0.038796</td>\n",
              "      <td>4.291714</td>\n",
              "      <td>0.543950</td>\n",
              "    </tr>\n",
              "  </tbody>\n",
              "</table>\n",
              "</div>"
            ],
            "text/plain": [
              "    average excess returns       vol            mmd  sharpe ratio\n",
              "01                0.100665  0.188038       4.917541      0.535342\n",
              "02                0.364856  0.177507       0.000000      2.055448\n",
              "03                0.164005  0.237528       5.448070      0.690466\n",
              "04                0.057889  0.036113       1.688045      1.602993\n",
              "05                0.544171  0.787888      65.577764      0.690671\n",
              "06                0.297073  0.149229       0.000000      1.990718\n",
              "07                0.640515  1.231943  825335.503709      0.519923\n",
              "08                0.098921  0.200674       3.148638      0.492943\n",
              "09                0.415016  1.448861   16356.995460      0.286443\n",
              "10                0.052936  0.038108       2.027311      1.389102\n",
              "11                0.041258  0.038804       1.557215      1.063259\n",
              "12                0.021103  0.038796       4.291714      0.543950"
            ]
          },
          "metadata": {
            "tags": []
          }
        },
        {
          "output_type": "display_data",
          "data": {
            "text/html": [
              "<div>\n",
              "<style scoped>\n",
              "    .dataframe tbody tr th:only-of-type {\n",
              "        vertical-align: middle;\n",
              "    }\n",
              "\n",
              "    .dataframe tbody tr th {\n",
              "        vertical-align: top;\n",
              "    }\n",
              "\n",
              "    .dataframe thead th {\n",
              "        text-align: right;\n",
              "    }\n",
              "</style>\n",
              "<table border=\"1\" class=\"dataframe\">\n",
              "  <thead>\n",
              "    <tr style=\"text-align: right;\">\n",
              "      <th></th>\n",
              "      <th>average excess returns</th>\n",
              "      <th>vol</th>\n",
              "      <th>mmd</th>\n",
              "      <th>sharpe ratio</th>\n",
              "    </tr>\n",
              "  </thead>\n",
              "  <tbody>\n",
              "    <tr>\n",
              "      <th>count</th>\n",
              "      <td>12.000000</td>\n",
              "      <td>12.000000</td>\n",
              "      <td>12.000000</td>\n",
              "      <td>12.000000</td>\n",
              "    </tr>\n",
              "    <tr>\n",
              "      <th>mean</th>\n",
              "      <td>0.233201</td>\n",
              "      <td>0.381124</td>\n",
              "      <td>70148.429622</td>\n",
              "      <td>0.988438</td>\n",
              "    </tr>\n",
              "    <tr>\n",
              "      <th>std</th>\n",
              "      <td>0.213737</td>\n",
              "      <td>0.494164</td>\n",
              "      <td>237868.684789</td>\n",
              "      <td>0.619752</td>\n",
              "    </tr>\n",
              "    <tr>\n",
              "      <th>min</th>\n",
              "      <td>0.021103</td>\n",
              "      <td>0.036113</td>\n",
              "      <td>0.000000</td>\n",
              "      <td>0.286443</td>\n",
              "    </tr>\n",
              "    <tr>\n",
              "      <th>25%</th>\n",
              "      <td>0.056651</td>\n",
              "      <td>0.038802</td>\n",
              "      <td>1.655338</td>\n",
              "      <td>0.531487</td>\n",
              "    </tr>\n",
              "    <tr>\n",
              "      <th>50%</th>\n",
              "      <td>0.132335</td>\n",
              "      <td>0.182772</td>\n",
              "      <td>3.720176</td>\n",
              "      <td>0.690569</td>\n",
              "    </tr>\n",
              "    <tr>\n",
              "      <th>75%</th>\n",
              "      <td>0.377396</td>\n",
              "      <td>0.375118</td>\n",
              "      <td>20.480494</td>\n",
              "      <td>1.442575</td>\n",
              "    </tr>\n",
              "    <tr>\n",
              "      <th>max</th>\n",
              "      <td>0.640515</td>\n",
              "      <td>1.448861</td>\n",
              "      <td>825335.503709</td>\n",
              "      <td>2.055448</td>\n",
              "    </tr>\n",
              "  </tbody>\n",
              "</table>\n",
              "</div>"
            ],
            "text/plain": [
              "       average excess returns        vol            mmd  sharpe ratio\n",
              "count               12.000000  12.000000      12.000000     12.000000\n",
              "mean                 0.233201   0.381124   70148.429622      0.988438\n",
              "std                  0.213737   0.494164  237868.684789      0.619752\n",
              "min                  0.021103   0.036113       0.000000      0.286443\n",
              "25%                  0.056651   0.038802       1.655338      0.531487\n",
              "50%                  0.132335   0.182772       3.720176      0.690569\n",
              "75%                  0.377396   0.375118      20.480494      1.442575\n",
              "max                  0.640515   1.448861  825335.503709      2.055448"
            ]
          },
          "metadata": {
            "tags": []
          }
        }
      ]
    },
    {
      "cell_type": "code",
      "metadata": {
        "pycharm": {
          "name": "#%%\n",
          "is_executing": false
        },
        "id": "-HTz-xnGZuzH",
        "colab_type": "code",
        "colab": {}
      },
      "source": [
        "index_2011 =  find_montly_index('2011')\n",
        "print(index_2011)\n",
        "res_2011 = dict()\n",
        "for mo in index_2011.keys():\n",
        "    start, end = min(index_2011[mo]), max(index_2011[mo])\n",
        "    portfolio = track_portfolio_performance(start, end)\n",
        "    portfolio_df = pd.DataFrame.from_dict(portfolio, orient='index')\n",
        "    portfolio_df.columns = [\"ret\", \"pnl\", 'mmd']\n",
        "    res_2011[mo] = []\n",
        "    res_2011[mo].append(portfolio_df['ret'].mean() - r)\n",
        "    res_2011[mo].append(portfolio_df['ret'].std()/np.sqrt(len(index_2011[mo])))\n",
        "    res_2011[mo].append(portfolio_df['mmd'].max())"
      ],
      "execution_count": 0,
      "outputs": []
    },
    {
      "cell_type": "code",
      "metadata": {
        "id": "wV14l3Oqq_0i",
        "colab_type": "code",
        "colab": {
          "base_uri": "https://localhost:8080/",
          "height": 902
        },
        "outputId": "874a13fe-3a70-4aea-bebb-a4a52eac47e8"
      },
      "source": [
        "df_2011_1 = pd.DataFrame(res_2011, index=['average excess returns', 'vol', 'mmd']).T\n",
        "df_2011_1['sharpe ratio'] = df_2011_1['average excess returns'] / df_2011_1['vol']\n",
        "display(df_2011_1)\n",
        "display(df_2011_1.describe())"
      ],
      "execution_count": 31,
      "outputs": [
        {
          "output_type": "display_data",
          "data": {
            "text/html": [
              "<div>\n",
              "<style scoped>\n",
              "    .dataframe tbody tr th:only-of-type {\n",
              "        vertical-align: middle;\n",
              "    }\n",
              "\n",
              "    .dataframe tbody tr th {\n",
              "        vertical-align: top;\n",
              "    }\n",
              "\n",
              "    .dataframe thead th {\n",
              "        text-align: right;\n",
              "    }\n",
              "</style>\n",
              "<table border=\"1\" class=\"dataframe\">\n",
              "  <thead>\n",
              "    <tr style=\"text-align: right;\">\n",
              "      <th></th>\n",
              "      <th>average excess returns</th>\n",
              "      <th>vol</th>\n",
              "      <th>mmd</th>\n",
              "      <th>sharpe ratio</th>\n",
              "    </tr>\n",
              "  </thead>\n",
              "  <tbody>\n",
              "    <tr>\n",
              "      <th>01</th>\n",
              "      <td>0.068662</td>\n",
              "      <td>0.005571</td>\n",
              "      <td>0.000000e+00</td>\n",
              "      <td>12.324469</td>\n",
              "    </tr>\n",
              "    <tr>\n",
              "      <th>02</th>\n",
              "      <td>0.062044</td>\n",
              "      <td>0.007749</td>\n",
              "      <td>1.201352e+00</td>\n",
              "      <td>8.007226</td>\n",
              "    </tr>\n",
              "    <tr>\n",
              "      <th>03</th>\n",
              "      <td>0.624013</td>\n",
              "      <td>0.139111</td>\n",
              "      <td>0.000000e+00</td>\n",
              "      <td>4.485710</td>\n",
              "    </tr>\n",
              "    <tr>\n",
              "      <th>04</th>\n",
              "      <td>0.638935</td>\n",
              "      <td>0.161018</td>\n",
              "      <td>0.000000e+00</td>\n",
              "      <td>3.968086</td>\n",
              "    </tr>\n",
              "    <tr>\n",
              "      <th>05</th>\n",
              "      <td>0.222071</td>\n",
              "      <td>0.081479</td>\n",
              "      <td>6.026495e-01</td>\n",
              "      <td>2.725489</td>\n",
              "    </tr>\n",
              "    <tr>\n",
              "      <th>06</th>\n",
              "      <td>0.105015</td>\n",
              "      <td>0.020075</td>\n",
              "      <td>2.388797e+00</td>\n",
              "      <td>5.231095</td>\n",
              "    </tr>\n",
              "    <tr>\n",
              "      <th>07</th>\n",
              "      <td>0.679151</td>\n",
              "      <td>0.333670</td>\n",
              "      <td>3.740290e+06</td>\n",
              "      <td>2.035397</td>\n",
              "    </tr>\n",
              "    <tr>\n",
              "      <th>08</th>\n",
              "      <td>0.474814</td>\n",
              "      <td>0.102887</td>\n",
              "      <td>0.000000e+00</td>\n",
              "      <td>4.614923</td>\n",
              "    </tr>\n",
              "    <tr>\n",
              "      <th>09</th>\n",
              "      <td>0.656541</td>\n",
              "      <td>0.121138</td>\n",
              "      <td>4.159798e+04</td>\n",
              "      <td>5.419764</td>\n",
              "    </tr>\n",
              "    <tr>\n",
              "      <th>10</th>\n",
              "      <td>0.270430</td>\n",
              "      <td>0.154576</td>\n",
              "      <td>5.210281e+02</td>\n",
              "      <td>1.749488</td>\n",
              "    </tr>\n",
              "    <tr>\n",
              "      <th>11</th>\n",
              "      <td>0.200025</td>\n",
              "      <td>0.161662</td>\n",
              "      <td>5.417060e+00</td>\n",
              "      <td>1.237305</td>\n",
              "    </tr>\n",
              "    <tr>\n",
              "      <th>12</th>\n",
              "      <td>0.960004</td>\n",
              "      <td>0.387414</td>\n",
              "      <td>2.682870e+08</td>\n",
              "      <td>2.477978</td>\n",
              "    </tr>\n",
              "  </tbody>\n",
              "</table>\n",
              "</div>"
            ],
            "text/plain": [
              "    average excess returns       vol           mmd  sharpe ratio\n",
              "01                0.068662  0.005571  0.000000e+00     12.324469\n",
              "02                0.062044  0.007749  1.201352e+00      8.007226\n",
              "03                0.624013  0.139111  0.000000e+00      4.485710\n",
              "04                0.638935  0.161018  0.000000e+00      3.968086\n",
              "05                0.222071  0.081479  6.026495e-01      2.725489\n",
              "06                0.105015  0.020075  2.388797e+00      5.231095\n",
              "07                0.679151  0.333670  3.740290e+06      2.035397\n",
              "08                0.474814  0.102887  0.000000e+00      4.614923\n",
              "09                0.656541  0.121138  4.159798e+04      5.419764\n",
              "10                0.270430  0.154576  5.210281e+02      1.749488\n",
              "11                0.200025  0.161662  5.417060e+00      1.237305\n",
              "12                0.960004  0.387414  2.682870e+08      2.477978"
            ]
          },
          "metadata": {
            "tags": []
          }
        },
        {
          "output_type": "display_data",
          "data": {
            "text/html": [
              "<div>\n",
              "<style scoped>\n",
              "    .dataframe tbody tr th:only-of-type {\n",
              "        vertical-align: middle;\n",
              "    }\n",
              "\n",
              "    .dataframe tbody tr th {\n",
              "        vertical-align: top;\n",
              "    }\n",
              "\n",
              "    .dataframe thead th {\n",
              "        text-align: right;\n",
              "    }\n",
              "</style>\n",
              "<table border=\"1\" class=\"dataframe\">\n",
              "  <thead>\n",
              "    <tr style=\"text-align: right;\">\n",
              "      <th></th>\n",
              "      <th>average excess returns</th>\n",
              "      <th>vol</th>\n",
              "      <th>mmd</th>\n",
              "      <th>sharpe ratio</th>\n",
              "    </tr>\n",
              "  </thead>\n",
              "  <tbody>\n",
              "    <tr>\n",
              "      <th>count</th>\n",
              "      <td>12.000000</td>\n",
              "      <td>12.000000</td>\n",
              "      <td>1.200000e+01</td>\n",
              "      <td>12.000000</td>\n",
              "    </tr>\n",
              "    <tr>\n",
              "      <th>mean</th>\n",
              "      <td>0.413475</td>\n",
              "      <td>0.139696</td>\n",
              "      <td>2.267245e+07</td>\n",
              "      <td>4.523077</td>\n",
              "    </tr>\n",
              "    <tr>\n",
              "      <th>std</th>\n",
              "      <td>0.296569</td>\n",
              "      <td>0.118685</td>\n",
              "      <td>7.735597e+07</td>\n",
              "      <td>3.114710</td>\n",
              "    </tr>\n",
              "    <tr>\n",
              "      <th>min</th>\n",
              "      <td>0.062044</td>\n",
              "      <td>0.005571</td>\n",
              "      <td>0.000000e+00</td>\n",
              "      <td>1.237305</td>\n",
              "    </tr>\n",
              "    <tr>\n",
              "      <th>25%</th>\n",
              "      <td>0.176272</td>\n",
              "      <td>0.066128</td>\n",
              "      <td>0.000000e+00</td>\n",
              "      <td>2.367333</td>\n",
              "    </tr>\n",
              "    <tr>\n",
              "      <th>50%</th>\n",
              "      <td>0.372622</td>\n",
              "      <td>0.130125</td>\n",
              "      <td>1.795075e+00</td>\n",
              "      <td>4.226898</td>\n",
              "    </tr>\n",
              "    <tr>\n",
              "      <th>75%</th>\n",
              "      <td>0.643336</td>\n",
              "      <td>0.161179</td>\n",
              "      <td>1.079027e+04</td>\n",
              "      <td>5.278262</td>\n",
              "    </tr>\n",
              "    <tr>\n",
              "      <th>max</th>\n",
              "      <td>0.960004</td>\n",
              "      <td>0.387414</td>\n",
              "      <td>2.682870e+08</td>\n",
              "      <td>12.324469</td>\n",
              "    </tr>\n",
              "  </tbody>\n",
              "</table>\n",
              "</div>"
            ],
            "text/plain": [
              "       average excess returns        vol           mmd  sharpe ratio\n",
              "count               12.000000  12.000000  1.200000e+01     12.000000\n",
              "mean                 0.413475   0.139696  2.267245e+07      4.523077\n",
              "std                  0.296569   0.118685  7.735597e+07      3.114710\n",
              "min                  0.062044   0.005571  0.000000e+00      1.237305\n",
              "25%                  0.176272   0.066128  0.000000e+00      2.367333\n",
              "50%                  0.372622   0.130125  1.795075e+00      4.226898\n",
              "75%                  0.643336   0.161179  1.079027e+04      5.278262\n",
              "max                  0.960004   0.387414  2.682870e+08     12.324469"
            ]
          },
          "metadata": {
            "tags": []
          }
        }
      ]
    },
    {
      "cell_type": "markdown",
      "metadata": {
        "collapsed": false,
        "id": "KMTwlIa6ZuzN",
        "colab_type": "text"
      },
      "source": [
        "## (3) Consider Market Impact"
      ]
    },
    {
      "cell_type": "markdown",
      "metadata": {
        "collapsed": false,
        "id": "0xAwyzMNZuzN",
        "colab_type": "text"
      },
      "source": [
        "- Define market impact model\n",
        "$\\text{cost} = \\alpha \\left| \\Delta w_t \\right|^2 +  \\beta \\sigma \\sqrt{\\frac{Q}{T} }$\n",
        "where  $Q$ is the number of shares to be traded, $V$ is daily volume. Both $\\alpha$ and $\\beta$ are two constant parameters, $\\alpha$ represents the fixed cost per share, and $\\beta$ is the coefficient expressing the liquidity of the stock.\n",
        "\n",
        " \n",
        "- The objective function can be formulated as\n",
        "$\\max_w \\mathbb{E}(w R) - \\frac{\\kappa}{2} \\mathbb{Var} (w R) - \\alpha \\left| \\Delta w_t \\right|^2  - \\beta \\sigma \\sqrt{\\frac{Q}{T} }$. The first tem is expected returns, the second term is risk-aversion, the third term is a fixed cost for Bid/Ask spread and the last term is a dynamic term of market impact. In general the last two terms serve as important component of trading cost.\n",
        "\n",
        "- Based on our knowledge about around 1 percent is the average impact cost for US large-cap stocks. We can guess the value of $\\alpha = 0.1 $ and $\\beta = 10$.\n"
      ]
    },
    {
      "cell_type": "markdown",
      "metadata": {
        "id": "7qLYukAM3QCr",
        "colab_type": "text"
      },
      "source": [
        "#### Visualize Market Impact Curve and Guess Parameters $\\alpha$ and $\\beta$\n",
        "\n"
      ]
    },
    {
      "cell_type": "code",
      "metadata": {
        "id": "yCG74hia_IYJ",
        "colab_type": "code",
        "colab": {
          "base_uri": "https://localhost:8080/",
          "height": 630
        },
        "outputId": "92a30d6c-536b-42b3-cbef-a4cab1bc34ce"
      },
      "source": [
        "def market_impact_test():\n",
        "    shares = [10**i for i in range(20)]\n",
        "    test_date = '20121231'\n",
        "    # assume we long trade ibm, with different shares\n",
        "    ibm_price = stock_signal_df.at[test_date, 'PRC']\n",
        "    volume = stock_signal_df.at[test_date, 'VOL']\n",
        "    weight_change = 1\n",
        "    market_impact_res = []\n",
        "    for s in shares:\n",
        "        market_impact = 0.1 * weight_change ** 2 +  10 * np.sqrt(s / volume)\n",
        "        market_impact_res.append(market_impact)\n",
        "    return shares, market_impact_res\n",
        "\n",
        "stock_signal_df = calc_residual_reversion_signal(\"IBM\", df, rolling_window, r)\n",
        "x, y = market_impact_test()\n",
        "print(y)\n",
        "plt.rcParams[\"figure.figsize\"] = (16,9)\n",
        "plt.plot(x, y)\n",
        "plt.title('simulated market impact curve (x:shares, y:market_impact)')"
      ],
      "execution_count": 32,
      "outputs": [
        {
          "output_type": "stream",
          "text": [
            "[0.10461963992418803, 0.11460858413028173, 0.14619639924188021, 0.24608584130281724, 0.5619639924188021, 1.5608584130281724, 4.71963992418802, 14.708584130281725, 46.296399241880216, 146.18584130281724, 462.0639924188022, 1460.9584130281723, 4619.739924188021, 14608.684130281725, 46196.49924188021, 146085.94130281726, 461964.0924188021, 1460858.5130281725, 4619640.024188021, 14608584.230281724]\n"
          ],
          "name": "stdout"
        },
        {
          "output_type": "execute_result",
          "data": {
            "text/plain": [
              "Text(0.5, 1.0, 'simulated market impact curve (x:shares, y:market_impact)')"
            ]
          },
          "metadata": {
            "tags": []
          },
          "execution_count": 32
        },
        {
          "output_type": "display_data",
          "data": {
            "image/png": "[encoded data removed]",
            "text/plain": [
              "<Figure size 1152x648 with 1 Axes>"
            ]
          },
          "metadata": {
            "tags": [],
            "needs_background": "light"
          }
        }
      ]
    },
    {
      "cell_type": "code",
      "metadata": {
        "pycharm": {
          "name": "#%%\n",
          "is_executing": false
        },
        "id": "TeX_rp9hZuzN",
        "colab_type": "code",
        "colab": {}
      },
      "source": [
        "def get_total_market_volume(date, tks, prep_df):\n",
        "    overall_volume = 0.0\n",
        "    for tk in tks:\n",
        "        overall_volume += max(abs(prep_df.at[date, tk + '_prc'] * prep_df.at[date, tk + '_vol']), 0.0)\n",
        "    return overall_volume"
      ],
      "execution_count": 0,
      "outputs": []
    },
    {
      "cell_type": "code",
      "metadata": {
        "pycharm": {
          "name": "#%%\n",
          "is_executing": false
        },
        "id": "ls0N5sn0ZuzO",
        "colab_type": "code",
        "colab": {}
      },
      "source": [
        "def get_weight_change(w, prev_w):\n",
        "    weight_delta = 0.0\n",
        "    n = len(w)\n",
        "    if prev_w is None:\n",
        "        for i in range(n):\n",
        "            weight_delta += abs(w[i])\n",
        "    else:\n",
        "        for i in range(n):\n",
        "            try:\n",
        "                if np.sign(w[i]) == np.sign(prev_w[i]):\n",
        "                    weight_delta += abs(w[i] - prev_w[i])\n",
        "                else:\n",
        "                    weight_delta += abs(w[i]) + abs(prev_w[i])\n",
        "            except:\n",
        "                pass\n",
        "    return weight_delta"
      ],
      "execution_count": 0,
      "outputs": []
    },
    {
      "cell_type": "code",
      "metadata": {
        "pycharm": {
          "name": "#%%\n",
          "is_executing": false
        },
        "id": "50Ww38UfZuzP",
        "colab_type": "code",
        "colab": {}
      },
      "source": [
        "def markovitz_plus_market_impact_weights(date, prep_df, r, pnl, prev_w):\n",
        "    # all avaiable trading for curr date\n",
        "    cov, rets, tks = compute_covariance(date, prep_df) \n",
        "    adj_returns = np.array(rets) - np.ones(len(rets)) * r\n",
        "    SPY_var = prep_df.at[date, 'SPY_var'] / rolling_window\n",
        "    kappa = (prep_df.at[date, 'SPY_mean'] - r) / SPY_var\n",
        "\n",
        "\n",
        "    def objective(w):\n",
        "        weight_change = get_weight_change(w, prev_w)\n",
        "        market_impact = 0.1 * weight_change ** 2 + 10 * np.sqrt((pnl * weight_change) / get_total_market_volume(date, tks, prep_df))\n",
        "        return 0.5 * kappa * w.transpose().dot(cov).dot(w) + market_impact - np.dot(w, adj_returns)\n",
        "\n",
        "    w0 = [1.0 / len(rets) for _ in range(len(rets))]\n",
        "    e = np.ones(len(rets))\n",
        "    bnds = [(0, 1) for _ in range(len(rets))]\n",
        "    const = ({'type': 'eq', 'fun': lambda w: np.dot(w, e) - 1.})\n",
        "    solution = minimize(fun=objective, x0=w0, method='SLSQP', bounds=bnds, constraints=const)\n",
        "    w = solution.x.round(6)\n",
        "\n",
        "    return w, tks\n",
        "\n",
        "\n",
        "\n",
        "def calc_portfolio_returns(date, w, tks, df):\n",
        "    rets = []\n",
        "    for tk in tks:\n",
        "        try:\n",
        "            rets.append(df.at[date, tk + \"_ret\"])\n",
        "        except:\n",
        "            rets.append(0.0)\n",
        "    portfolio_return = np.array(rets).dot(w)\n",
        "    return portfolio_return\n",
        "\n",
        "\n",
        "\n",
        "def track_portfolio_performance_1(start, end, prep_df=portfolio_prep_df, daily_r=r):\n",
        "    pnl = 100.\n",
        "    portfolio_history = {}\n",
        "    prev_w = None\n",
        "    pnl_list =[100.]\n",
        "\n",
        "    for i in range(start, end):\n",
        "        curr_day = all_dates[i]\n",
        "        next_day = get_next_day(curr_day)\n",
        "\n",
        "        if i == start:\n",
        "            portfolio_history[curr_day] = [0.0, pnl]\n",
        "\n",
        "        w, tks = markovitz_plus_market_impact_weights(next_day, prep_df, daily_r, pnl, prev_w)\n",
        "        portfolio_ret = calc_portfolio_returns(next_day, w, tks, prep_df)\n",
        "        pnl += pnl * portfolio_ret\n",
        "        pnl_list.append(pnl)\n",
        "        try:\n",
        "            portfolio_history[next_day] = [portfolio_ret, pnl, MDD(pnl_list)]\n",
        "        except:\n",
        "            portfolio_history[next_day] = [portfolio_ret, pnl, 0]\n",
        "        prev_w = w\n",
        "\n",
        "    return portfolio_history"
      ],
      "execution_count": 0,
      "outputs": []
    },
    {
      "cell_type": "code",
      "metadata": {
        "id": "9yCOCb2gC-zW",
        "colab_type": "code",
        "colab": {}
      },
      "source": [
        "index_2009 =  find_montly_index('2009')\n",
        "res_2009_mi = dict()\n",
        "for mo in index_2010.keys():\n",
        "    start, end = min(index_2009[mo]), max(index_2009[mo])\n",
        "    portfolio = track_portfolio_performance_1(start, end)\n",
        "    portfolio_df = pd.DataFrame.from_dict(portfolio, orient='index')\n",
        "    portfolio_df.columns = [\"ret\", \"pnl\", \"mmd\"]\n",
        "    res_2009_mi[mo] = []\n",
        "    res_2009_mi[mo].append(portfolio_df['ret'].mean() - r)\n",
        "    res_2009_mi[mo].append(portfolio_df['ret'].std())\n",
        "    res_2009_mi[mo].append(portfolio_df['mmd'].max())\n"
      ],
      "execution_count": 0,
      "outputs": []
    },
    {
      "cell_type": "code",
      "metadata": {
        "id": "yLBLn6liDANi",
        "colab_type": "code",
        "colab": {
          "base_uri": "https://localhost:8080/",
          "height": 902
        },
        "outputId": "36b8fedb-bdef-44ec-c54e-9dcf2cefc2a0"
      },
      "source": [
        "df_2009_2 = pd.DataFrame(res_2009_mi, index=['average excess returns', 'vol', 'mmd']).T\n",
        "df_2009_2['sharpe ratio'] = df_2009_2['average excess returns'] / df_2009_2['vol']\n",
        "display(df_2009_2)\n",
        "display(df_2009_2.describe())"
      ],
      "execution_count": 37,
      "outputs": [
        {
          "output_type": "display_data",
          "data": {
            "text/html": [
              "<div>\n",
              "<style scoped>\n",
              "    .dataframe tbody tr th:only-of-type {\n",
              "        vertical-align: middle;\n",
              "    }\n",
              "\n",
              "    .dataframe tbody tr th {\n",
              "        vertical-align: top;\n",
              "    }\n",
              "\n",
              "    .dataframe thead th {\n",
              "        text-align: right;\n",
              "    }\n",
              "</style>\n",
              "<table border=\"1\" class=\"dataframe\">\n",
              "  <thead>\n",
              "    <tr style=\"text-align: right;\">\n",
              "      <th></th>\n",
              "      <th>average excess returns</th>\n",
              "      <th>vol</th>\n",
              "      <th>mmd</th>\n",
              "      <th>sharpe ratio</th>\n",
              "    </tr>\n",
              "  </thead>\n",
              "  <tbody>\n",
              "    <tr>\n",
              "      <th>01</th>\n",
              "      <td>0.599312</td>\n",
              "      <td>0.669534</td>\n",
              "      <td>0.887094</td>\n",
              "      <td>0.895118</td>\n",
              "    </tr>\n",
              "    <tr>\n",
              "      <th>02</th>\n",
              "      <td>0.565681</td>\n",
              "      <td>0.477831</td>\n",
              "      <td>0.000000</td>\n",
              "      <td>1.183852</td>\n",
              "    </tr>\n",
              "    <tr>\n",
              "      <th>03</th>\n",
              "      <td>0.923587</td>\n",
              "      <td>0.606020</td>\n",
              "      <td>0.000000</td>\n",
              "      <td>1.524020</td>\n",
              "    </tr>\n",
              "    <tr>\n",
              "      <th>04</th>\n",
              "      <td>0.000047</td>\n",
              "      <td>0.010995</td>\n",
              "      <td>4.157847</td>\n",
              "      <td>0.004254</td>\n",
              "    </tr>\n",
              "    <tr>\n",
              "      <th>05</th>\n",
              "      <td>0.002138</td>\n",
              "      <td>0.013117</td>\n",
              "      <td>4.598813</td>\n",
              "      <td>0.163023</td>\n",
              "    </tr>\n",
              "    <tr>\n",
              "      <th>06</th>\n",
              "      <td>0.268127</td>\n",
              "      <td>0.548299</td>\n",
              "      <td>3.001016</td>\n",
              "      <td>0.489016</td>\n",
              "    </tr>\n",
              "    <tr>\n",
              "      <th>07</th>\n",
              "      <td>0.330402</td>\n",
              "      <td>0.527948</td>\n",
              "      <td>243.970251</td>\n",
              "      <td>0.625824</td>\n",
              "    </tr>\n",
              "    <tr>\n",
              "      <th>08</th>\n",
              "      <td>0.004129</td>\n",
              "      <td>0.019093</td>\n",
              "      <td>5.447585</td>\n",
              "      <td>0.216250</td>\n",
              "    </tr>\n",
              "    <tr>\n",
              "      <th>09</th>\n",
              "      <td>0.002594</td>\n",
              "      <td>0.009642</td>\n",
              "      <td>3.561886</td>\n",
              "      <td>0.268981</td>\n",
              "    </tr>\n",
              "    <tr>\n",
              "      <th>10</th>\n",
              "      <td>0.093735</td>\n",
              "      <td>0.361631</td>\n",
              "      <td>3.924282</td>\n",
              "      <td>0.259200</td>\n",
              "    </tr>\n",
              "    <tr>\n",
              "      <th>11</th>\n",
              "      <td>0.041981</td>\n",
              "      <td>0.170583</td>\n",
              "      <td>51.530630</td>\n",
              "      <td>0.246100</td>\n",
              "    </tr>\n",
              "    <tr>\n",
              "      <th>12</th>\n",
              "      <td>0.001647</td>\n",
              "      <td>0.013223</td>\n",
              "      <td>4.658574</td>\n",
              "      <td>0.124533</td>\n",
              "    </tr>\n",
              "  </tbody>\n",
              "</table>\n",
              "</div>"
            ],
            "text/plain": [
              "    average excess returns       vol         mmd  sharpe ratio\n",
              "01                0.599312  0.669534    0.887094      0.895118\n",
              "02                0.565681  0.477831    0.000000      1.183852\n",
              "03                0.923587  0.606020    0.000000      1.524020\n",
              "04                0.000047  0.010995    4.157847      0.004254\n",
              "05                0.002138  0.013117    4.598813      0.163023\n",
              "06                0.268127  0.548299    3.001016      0.489016\n",
              "07                0.330402  0.527948  243.970251      0.625824\n",
              "08                0.004129  0.019093    5.447585      0.216250\n",
              "09                0.002594  0.009642    3.561886      0.268981\n",
              "10                0.093735  0.361631    3.924282      0.259200\n",
              "11                0.041981  0.170583   51.530630      0.246100\n",
              "12                0.001647  0.013223    4.658574      0.124533"
            ]
          },
          "metadata": {
            "tags": []
          }
        },
        {
          "output_type": "display_data",
          "data": {
            "text/html": [
              "<div>\n",
              "<style scoped>\n",
              "    .dataframe tbody tr th:only-of-type {\n",
              "        vertical-align: middle;\n",
              "    }\n",
              "\n",
              "    .dataframe tbody tr th {\n",
              "        vertical-align: top;\n",
              "    }\n",
              "\n",
              "    .dataframe thead th {\n",
              "        text-align: right;\n",
              "    }\n",
              "</style>\n",
              "<table border=\"1\" class=\"dataframe\">\n",
              "  <thead>\n",
              "    <tr style=\"text-align: right;\">\n",
              "      <th></th>\n",
              "      <th>average excess returns</th>\n",
              "      <th>vol</th>\n",
              "      <th>mmd</th>\n",
              "      <th>sharpe ratio</th>\n",
              "    </tr>\n",
              "  </thead>\n",
              "  <tbody>\n",
              "    <tr>\n",
              "      <th>count</th>\n",
              "      <td>12.000000</td>\n",
              "      <td>12.000000</td>\n",
              "      <td>12.000000</td>\n",
              "      <td>12.000000</td>\n",
              "    </tr>\n",
              "    <tr>\n",
              "      <th>mean</th>\n",
              "      <td>0.236115</td>\n",
              "      <td>0.285660</td>\n",
              "      <td>27.144831</td>\n",
              "      <td>0.500014</td>\n",
              "    </tr>\n",
              "    <tr>\n",
              "      <th>std</th>\n",
              "      <td>0.309665</td>\n",
              "      <td>0.270488</td>\n",
              "      <td>69.715319</td>\n",
              "      <td>0.471455</td>\n",
              "    </tr>\n",
              "    <tr>\n",
              "      <th>min</th>\n",
              "      <td>0.000047</td>\n",
              "      <td>0.009642</td>\n",
              "      <td>0.000000</td>\n",
              "      <td>0.004254</td>\n",
              "    </tr>\n",
              "    <tr>\n",
              "      <th>25%</th>\n",
              "      <td>0.002480</td>\n",
              "      <td>0.013196</td>\n",
              "      <td>2.472535</td>\n",
              "      <td>0.202943</td>\n",
              "    </tr>\n",
              "    <tr>\n",
              "      <th>50%</th>\n",
              "      <td>0.067858</td>\n",
              "      <td>0.266107</td>\n",
              "      <td>4.041064</td>\n",
              "      <td>0.264090</td>\n",
              "    </tr>\n",
              "    <tr>\n",
              "      <th>75%</th>\n",
              "      <td>0.389222</td>\n",
              "      <td>0.533035</td>\n",
              "      <td>4.855826</td>\n",
              "      <td>0.693147</td>\n",
              "    </tr>\n",
              "    <tr>\n",
              "      <th>max</th>\n",
              "      <td>0.923587</td>\n",
              "      <td>0.669534</td>\n",
              "      <td>243.970251</td>\n",
              "      <td>1.524020</td>\n",
              "    </tr>\n",
              "  </tbody>\n",
              "</table>\n",
              "</div>"
            ],
            "text/plain": [
              "       average excess returns        vol         mmd  sharpe ratio\n",
              "count               12.000000  12.000000   12.000000     12.000000\n",
              "mean                 0.236115   0.285660   27.144831      0.500014\n",
              "std                  0.309665   0.270488   69.715319      0.471455\n",
              "min                  0.000047   0.009642    0.000000      0.004254\n",
              "25%                  0.002480   0.013196    2.472535      0.202943\n",
              "50%                  0.067858   0.266107    4.041064      0.264090\n",
              "75%                  0.389222   0.533035    4.855826      0.693147\n",
              "max                  0.923587   0.669534  243.970251      1.524020"
            ]
          },
          "metadata": {
            "tags": []
          }
        }
      ]
    },
    {
      "cell_type": "code",
      "metadata": {
        "id": "PqlsYjGttrjS",
        "colab_type": "code",
        "colab": {}
      },
      "source": [
        "index_2010 =  find_montly_index('2010')\n",
        "res_2010_mi = dict()\n",
        "for mo in index_2010.keys():\n",
        "    start, end = min(index_2010[mo]), max(index_2010[mo])\n",
        "    portfolio = track_portfolio_performance_1(start, end)\n",
        "    portfolio_df = pd.DataFrame.from_dict(portfolio, orient='index')\n",
        "    portfolio_df.columns = [\"ret\", \"pnl\", \"mmd\"]\n",
        "    res_2010_mi[mo] = []\n",
        "    res_2010_mi[mo].append(portfolio_df['ret'].mean() - r)\n",
        "    res_2010_mi[mo].append(portfolio_df['ret'].std())\n",
        "    res_2010_mi[mo].append(portfolio_df['mmd'].max())\n"
      ],
      "execution_count": 0,
      "outputs": []
    },
    {
      "cell_type": "code",
      "metadata": {
        "id": "wOfus89VwR0G",
        "colab_type": "code",
        "colab": {
          "base_uri": "https://localhost:8080/",
          "height": 902
        },
        "outputId": "b6ca20f3-cadc-4e1d-d2dd-fd863c3a3eab"
      },
      "source": [
        "df_2010_2 = pd.DataFrame(res_2010_mi, index=['average excess returns', 'vol', 'mmd']).T\n",
        "df_2010_2['sharpe ratio'] = df_2010_2['average excess returns'] / df_2010_2['vol']\n",
        "display(df_2010_2)\n",
        "display(df_2010_2.describe())"
      ],
      "execution_count": 39,
      "outputs": [
        {
          "output_type": "display_data",
          "data": {
            "text/html": [
              "<div>\n",
              "<style scoped>\n",
              "    .dataframe tbody tr th:only-of-type {\n",
              "        vertical-align: middle;\n",
              "    }\n",
              "\n",
              "    .dataframe tbody tr th {\n",
              "        vertical-align: top;\n",
              "    }\n",
              "\n",
              "    .dataframe thead th {\n",
              "        text-align: right;\n",
              "    }\n",
              "</style>\n",
              "<table border=\"1\" class=\"dataframe\">\n",
              "  <thead>\n",
              "    <tr style=\"text-align: right;\">\n",
              "      <th></th>\n",
              "      <th>average excess returns</th>\n",
              "      <th>vol</th>\n",
              "      <th>mmd</th>\n",
              "      <th>sharpe ratio</th>\n",
              "    </tr>\n",
              "  </thead>\n",
              "  <tbody>\n",
              "    <tr>\n",
              "      <th>01</th>\n",
              "      <td>0.095299</td>\n",
              "      <td>0.174911</td>\n",
              "      <td>2.935795</td>\n",
              "      <td>0.544841</td>\n",
              "    </tr>\n",
              "    <tr>\n",
              "      <th>02</th>\n",
              "      <td>0.377184</td>\n",
              "      <td>0.218718</td>\n",
              "      <td>0.000000</td>\n",
              "      <td>1.724522</td>\n",
              "    </tr>\n",
              "    <tr>\n",
              "      <th>03</th>\n",
              "      <td>0.117354</td>\n",
              "      <td>0.200222</td>\n",
              "      <td>2.177367</td>\n",
              "      <td>0.586120</td>\n",
              "    </tr>\n",
              "    <tr>\n",
              "      <th>04</th>\n",
              "      <td>0.054355</td>\n",
              "      <td>0.038473</td>\n",
              "      <td>2.380253</td>\n",
              "      <td>1.412821</td>\n",
              "    </tr>\n",
              "    <tr>\n",
              "      <th>05</th>\n",
              "      <td>0.559175</td>\n",
              "      <td>0.790967</td>\n",
              "      <td>0.000000</td>\n",
              "      <td>0.706951</td>\n",
              "    </tr>\n",
              "    <tr>\n",
              "      <th>06</th>\n",
              "      <td>0.288905</td>\n",
              "      <td>0.164796</td>\n",
              "      <td>0.000000</td>\n",
              "      <td>1.753113</td>\n",
              "    </tr>\n",
              "    <tr>\n",
              "      <th>07</th>\n",
              "      <td>0.643639</td>\n",
              "      <td>1.232553</td>\n",
              "      <td>1616.555324</td>\n",
              "      <td>0.522200</td>\n",
              "    </tr>\n",
              "    <tr>\n",
              "      <th>08</th>\n",
              "      <td>0.102080</td>\n",
              "      <td>0.178370</td>\n",
              "      <td>2.694840</td>\n",
              "      <td>0.572297</td>\n",
              "    </tr>\n",
              "    <tr>\n",
              "      <th>09</th>\n",
              "      <td>0.412762</td>\n",
              "      <td>1.446538</td>\n",
              "      <td>66.820408</td>\n",
              "      <td>0.285345</td>\n",
              "    </tr>\n",
              "    <tr>\n",
              "      <th>10</th>\n",
              "      <td>0.041210</td>\n",
              "      <td>0.041743</td>\n",
              "      <td>1.421108</td>\n",
              "      <td>0.987225</td>\n",
              "    </tr>\n",
              "    <tr>\n",
              "      <th>11</th>\n",
              "      <td>0.039970</td>\n",
              "      <td>0.041012</td>\n",
              "      <td>1.488513</td>\n",
              "      <td>0.974602</td>\n",
              "    </tr>\n",
              "    <tr>\n",
              "      <th>12</th>\n",
              "      <td>0.027661</td>\n",
              "      <td>0.040192</td>\n",
              "      <td>3.954509</td>\n",
              "      <td>0.688205</td>\n",
              "    </tr>\n",
              "  </tbody>\n",
              "</table>\n",
              "</div>"
            ],
            "text/plain": [
              "    average excess returns       vol          mmd  sharpe ratio\n",
              "01                0.095299  0.174911     2.935795      0.544841\n",
              "02                0.377184  0.218718     0.000000      1.724522\n",
              "03                0.117354  0.200222     2.177367      0.586120\n",
              "04                0.054355  0.038473     2.380253      1.412821\n",
              "05                0.559175  0.790967     0.000000      0.706951\n",
              "06                0.288905  0.164796     0.000000      1.753113\n",
              "07                0.643639  1.232553  1616.555324      0.522200\n",
              "08                0.102080  0.178370     2.694840      0.572297\n",
              "09                0.412762  1.446538    66.820408      0.285345\n",
              "10                0.041210  0.041743     1.421108      0.987225\n",
              "11                0.039970  0.041012     1.488513      0.974602\n",
              "12                0.027661  0.040192     3.954509      0.688205"
            ]
          },
          "metadata": {
            "tags": []
          }
        },
        {
          "output_type": "display_data",
          "data": {
            "text/html": [
              "<div>\n",
              "<style scoped>\n",
              "    .dataframe tbody tr th:only-of-type {\n",
              "        vertical-align: middle;\n",
              "    }\n",
              "\n",
              "    .dataframe tbody tr th {\n",
              "        vertical-align: top;\n",
              "    }\n",
              "\n",
              "    .dataframe thead th {\n",
              "        text-align: right;\n",
              "    }\n",
              "</style>\n",
              "<table border=\"1\" class=\"dataframe\">\n",
              "  <thead>\n",
              "    <tr style=\"text-align: right;\">\n",
              "      <th></th>\n",
              "      <th>average excess returns</th>\n",
              "      <th>vol</th>\n",
              "      <th>mmd</th>\n",
              "      <th>sharpe ratio</th>\n",
              "    </tr>\n",
              "  </thead>\n",
              "  <tbody>\n",
              "    <tr>\n",
              "      <th>count</th>\n",
              "      <td>12.000000</td>\n",
              "      <td>12.000000</td>\n",
              "      <td>12.000000</td>\n",
              "      <td>12.000000</td>\n",
              "    </tr>\n",
              "    <tr>\n",
              "      <th>mean</th>\n",
              "      <td>0.229966</td>\n",
              "      <td>0.380708</td>\n",
              "      <td>141.702343</td>\n",
              "      <td>0.896520</td>\n",
              "    </tr>\n",
              "    <tr>\n",
              "      <th>std</th>\n",
              "      <td>0.219241</td>\n",
              "      <td>0.493783</td>\n",
              "      <td>464.836980</td>\n",
              "      <td>0.487886</td>\n",
              "    </tr>\n",
              "    <tr>\n",
              "      <th>min</th>\n",
              "      <td>0.027661</td>\n",
              "      <td>0.038473</td>\n",
              "      <td>0.000000</td>\n",
              "      <td>0.285345</td>\n",
              "    </tr>\n",
              "    <tr>\n",
              "      <th>25%</th>\n",
              "      <td>0.051069</td>\n",
              "      <td>0.041560</td>\n",
              "      <td>1.065831</td>\n",
              "      <td>0.565433</td>\n",
              "    </tr>\n",
              "    <tr>\n",
              "      <th>50%</th>\n",
              "      <td>0.109717</td>\n",
              "      <td>0.176640</td>\n",
              "      <td>2.278810</td>\n",
              "      <td>0.697578</td>\n",
              "    </tr>\n",
              "    <tr>\n",
              "      <th>75%</th>\n",
              "      <td>0.386078</td>\n",
              "      <td>0.361780</td>\n",
              "      <td>3.190473</td>\n",
              "      <td>1.093624</td>\n",
              "    </tr>\n",
              "    <tr>\n",
              "      <th>max</th>\n",
              "      <td>0.643639</td>\n",
              "      <td>1.446538</td>\n",
              "      <td>1616.555324</td>\n",
              "      <td>1.753113</td>\n",
              "    </tr>\n",
              "  </tbody>\n",
              "</table>\n",
              "</div>"
            ],
            "text/plain": [
              "       average excess returns        vol          mmd  sharpe ratio\n",
              "count               12.000000  12.000000    12.000000     12.000000\n",
              "mean                 0.229966   0.380708   141.702343      0.896520\n",
              "std                  0.219241   0.493783   464.836980      0.487886\n",
              "min                  0.027661   0.038473     0.000000      0.285345\n",
              "25%                  0.051069   0.041560     1.065831      0.565433\n",
              "50%                  0.109717   0.176640     2.278810      0.697578\n",
              "75%                  0.386078   0.361780     3.190473      1.093624\n",
              "max                  0.643639   1.446538  1616.555324      1.753113"
            ]
          },
          "metadata": {
            "tags": []
          }
        }
      ]
    },
    {
      "cell_type": "code",
      "metadata": {
        "id": "aCSI3MznDOgK",
        "colab_type": "code",
        "colab": {}
      },
      "source": [
        "index_2011 =  find_montly_index('2011')\n",
        "res_2011_mi = dict()\n",
        "for mo in index_2011.keys():\n",
        "    start, end = min(index_2011[mo]), max(index_2011[mo])\n",
        "    portfolio = track_portfolio_performance_1(start, end)\n",
        "    portfolio_df = pd.DataFrame.from_dict(portfolio, orient='index')\n",
        "    portfolio_df.columns = [\"ret\", \"pnl\", \"mmd\"]\n",
        "    res_2011_mi[mo] = []\n",
        "    res_2011_mi[mo].append(portfolio_df['ret'].mean() - r)\n",
        "    res_2011_mi[mo].append(portfolio_df['ret'].std())\n",
        "    res_2011_mi[mo].append(portfolio_df['mmd'].max())"
      ],
      "execution_count": 0,
      "outputs": []
    },
    {
      "cell_type": "code",
      "metadata": {
        "id": "Z_v2r5AdDQrd",
        "colab_type": "code",
        "colab": {
          "base_uri": "https://localhost:8080/",
          "height": 902
        },
        "outputId": "7ccfbf80-3cec-4566-dc84-3d739eab032e"
      },
      "source": [
        "df_2011_2 = pd.DataFrame(res_2011_mi, index=['average excess returns', 'vol', 'mmd']).T\n",
        "df_2011_2['sharpe ratio'] = df_2011_2['average excess returns'] / df_2011_2['vol']\n",
        "display(df_2011_2)\n",
        "display(df_2011_2.describe())"
      ],
      "execution_count": 41,
      "outputs": [
        {
          "output_type": "display_data",
          "data": {
            "text/html": [
              "<div>\n",
              "<style scoped>\n",
              "    .dataframe tbody tr th:only-of-type {\n",
              "        vertical-align: middle;\n",
              "    }\n",
              "\n",
              "    .dataframe tbody tr th {\n",
              "        vertical-align: top;\n",
              "    }\n",
              "\n",
              "    .dataframe thead th {\n",
              "        text-align: right;\n",
              "    }\n",
              "</style>\n",
              "<table border=\"1\" class=\"dataframe\">\n",
              "  <thead>\n",
              "    <tr style=\"text-align: right;\">\n",
              "      <th></th>\n",
              "      <th>average excess returns</th>\n",
              "      <th>vol</th>\n",
              "      <th>mmd</th>\n",
              "      <th>sharpe ratio</th>\n",
              "    </tr>\n",
              "  </thead>\n",
              "  <tbody>\n",
              "    <tr>\n",
              "      <th>01</th>\n",
              "      <td>0.071318</td>\n",
              "      <td>0.026419</td>\n",
              "      <td>0.118955</td>\n",
              "      <td>2.699459</td>\n",
              "    </tr>\n",
              "    <tr>\n",
              "      <th>02</th>\n",
              "      <td>0.055500</td>\n",
              "      <td>0.055571</td>\n",
              "      <td>40.678996</td>\n",
              "      <td>0.998713</td>\n",
              "    </tr>\n",
              "    <tr>\n",
              "      <th>03</th>\n",
              "      <td>0.647886</td>\n",
              "      <td>0.701713</td>\n",
              "      <td>1.523991</td>\n",
              "      <td>0.923292</td>\n",
              "    </tr>\n",
              "    <tr>\n",
              "      <th>04</th>\n",
              "      <td>0.406415</td>\n",
              "      <td>0.425663</td>\n",
              "      <td>94.742012</td>\n",
              "      <td>0.954781</td>\n",
              "    </tr>\n",
              "    <tr>\n",
              "      <th>05</th>\n",
              "      <td>0.242507</td>\n",
              "      <td>0.381065</td>\n",
              "      <td>4.770505</td>\n",
              "      <td>0.636393</td>\n",
              "    </tr>\n",
              "    <tr>\n",
              "      <th>06</th>\n",
              "      <td>0.107458</td>\n",
              "      <td>0.083169</td>\n",
              "      <td>1.264135</td>\n",
              "      <td>1.292042</td>\n",
              "    </tr>\n",
              "    <tr>\n",
              "      <th>07</th>\n",
              "      <td>0.682397</td>\n",
              "      <td>1.488270</td>\n",
              "      <td>2847.874064</td>\n",
              "      <td>0.458517</td>\n",
              "    </tr>\n",
              "    <tr>\n",
              "      <th>08</th>\n",
              "      <td>0.331338</td>\n",
              "      <td>0.205018</td>\n",
              "      <td>0.000000</td>\n",
              "      <td>1.616146</td>\n",
              "    </tr>\n",
              "    <tr>\n",
              "      <th>09</th>\n",
              "      <td>0.613404</td>\n",
              "      <td>0.588001</td>\n",
              "      <td>325.117595</td>\n",
              "      <td>1.043202</td>\n",
              "    </tr>\n",
              "    <tr>\n",
              "      <th>10</th>\n",
              "      <td>0.239364</td>\n",
              "      <td>0.701875</td>\n",
              "      <td>56.080422</td>\n",
              "      <td>0.341035</td>\n",
              "    </tr>\n",
              "    <tr>\n",
              "      <th>11</th>\n",
              "      <td>0.186848</td>\n",
              "      <td>0.717542</td>\n",
              "      <td>5.550211</td>\n",
              "      <td>0.260399</td>\n",
              "    </tr>\n",
              "    <tr>\n",
              "      <th>12</th>\n",
              "      <td>1.037062</td>\n",
              "      <td>1.768704</td>\n",
              "      <td>0.909025</td>\n",
              "      <td>0.586340</td>\n",
              "    </tr>\n",
              "  </tbody>\n",
              "</table>\n",
              "</div>"
            ],
            "text/plain": [
              "    average excess returns       vol          mmd  sharpe ratio\n",
              "01                0.071318  0.026419     0.118955      2.699459\n",
              "02                0.055500  0.055571    40.678996      0.998713\n",
              "03                0.647886  0.701713     1.523991      0.923292\n",
              "04                0.406415  0.425663    94.742012      0.954781\n",
              "05                0.242507  0.381065     4.770505      0.636393\n",
              "06                0.107458  0.083169     1.264135      1.292042\n",
              "07                0.682397  1.488270  2847.874064      0.458517\n",
              "08                0.331338  0.205018     0.000000      1.616146\n",
              "09                0.613404  0.588001   325.117595      1.043202\n",
              "10                0.239364  0.701875    56.080422      0.341035\n",
              "11                0.186848  0.717542     5.550211      0.260399\n",
              "12                1.037062  1.768704     0.909025      0.586340"
            ]
          },
          "metadata": {
            "tags": []
          }
        },
        {
          "output_type": "display_data",
          "data": {
            "text/html": [
              "<div>\n",
              "<style scoped>\n",
              "    .dataframe tbody tr th:only-of-type {\n",
              "        vertical-align: middle;\n",
              "    }\n",
              "\n",
              "    .dataframe tbody tr th {\n",
              "        vertical-align: top;\n",
              "    }\n",
              "\n",
              "    .dataframe thead th {\n",
              "        text-align: right;\n",
              "    }\n",
              "</style>\n",
              "<table border=\"1\" class=\"dataframe\">\n",
              "  <thead>\n",
              "    <tr style=\"text-align: right;\">\n",
              "      <th></th>\n",
              "      <th>average excess returns</th>\n",
              "      <th>vol</th>\n",
              "      <th>mmd</th>\n",
              "      <th>sharpe ratio</th>\n",
              "    </tr>\n",
              "  </thead>\n",
              "  <tbody>\n",
              "    <tr>\n",
              "      <th>count</th>\n",
              "      <td>12.000000</td>\n",
              "      <td>12.000000</td>\n",
              "      <td>12.000000</td>\n",
              "      <td>12.000000</td>\n",
              "    </tr>\n",
              "    <tr>\n",
              "      <th>mean</th>\n",
              "      <td>0.385125</td>\n",
              "      <td>0.595251</td>\n",
              "      <td>281.552493</td>\n",
              "      <td>0.984193</td>\n",
              "    </tr>\n",
              "    <tr>\n",
              "      <th>std</th>\n",
              "      <td>0.301966</td>\n",
              "      <td>0.549061</td>\n",
              "      <td>813.447245</td>\n",
              "      <td>0.669984</td>\n",
              "    </tr>\n",
              "    <tr>\n",
              "      <th>min</th>\n",
              "      <td>0.055500</td>\n",
              "      <td>0.026419</td>\n",
              "      <td>0.000000</td>\n",
              "      <td>0.260399</td>\n",
              "    </tr>\n",
              "    <tr>\n",
              "      <th>25%</th>\n",
              "      <td>0.167000</td>\n",
              "      <td>0.174555</td>\n",
              "      <td>1.175357</td>\n",
              "      <td>0.554384</td>\n",
              "    </tr>\n",
              "    <tr>\n",
              "      <th>50%</th>\n",
              "      <td>0.286923</td>\n",
              "      <td>0.506832</td>\n",
              "      <td>5.160358</td>\n",
              "      <td>0.939036</td>\n",
              "    </tr>\n",
              "    <tr>\n",
              "      <th>75%</th>\n",
              "      <td>0.622024</td>\n",
              "      <td>0.705792</td>\n",
              "      <td>65.745820</td>\n",
              "      <td>1.105412</td>\n",
              "    </tr>\n",
              "    <tr>\n",
              "      <th>max</th>\n",
              "      <td>1.037062</td>\n",
              "      <td>1.768704</td>\n",
              "      <td>2847.874064</td>\n",
              "      <td>2.699459</td>\n",
              "    </tr>\n",
              "  </tbody>\n",
              "</table>\n",
              "</div>"
            ],
            "text/plain": [
              "       average excess returns        vol          mmd  sharpe ratio\n",
              "count               12.000000  12.000000    12.000000     12.000000\n",
              "mean                 0.385125   0.595251   281.552493      0.984193\n",
              "std                  0.301966   0.549061   813.447245      0.669984\n",
              "min                  0.055500   0.026419     0.000000      0.260399\n",
              "25%                  0.167000   0.174555     1.175357      0.554384\n",
              "50%                  0.286923   0.506832     5.160358      0.939036\n",
              "75%                  0.622024   0.705792    65.745820      1.105412\n",
              "max                  1.037062   1.768704  2847.874064      2.699459"
            ]
          },
          "metadata": {
            "tags": []
          }
        }
      ]
    },
    {
      "cell_type": "markdown",
      "metadata": {
        "id": "pKJNsrmQB5Fv",
        "colab_type": "text"
      },
      "source": [
        "- After comparing the three experients of with- and without- consideration of market impact for 2009, 2010, 2011, respectively, considering the market impact results in signifcantly reduced average returns (around 20%) and increased vol (range from 0% to 50%). \n",
        "- Regarding the maximum drawdown value, after penalizing the market impact and position change reduced the significant maximum draw down sucessfully.\n",
        "- The overall performance (sharpe ratio) gets worst, becasue reducing the average excess return and increased volatility are the most dominant forces."
      ]
    },
    {
      "cell_type": "markdown",
      "metadata": {
        "id": "1DKHDMDyEu-9",
        "colab_type": "text"
      },
      "source": [
        "\n",
        "#### Project Summary and Conclusions:\n",
        "\n",
        "\n",
        "- By searching from different optimal rolling windows, I found that 66 days rolling window result in the smallest total error. When the window size gets longer, the variance decrease monotonically, but the bias increase again, because longer rolling window cannot capture the immediate changes on beta. \n",
        "\n",
        "- I applied the markovits mean-variance portfolio with long only constraints in order to simplify the borrow/lend procedure, I found that the performance of using residual reversion signal is very promissing. The results of 2009, 2010, and 2010 consistently indicated high returns and low variance patterns.\n",
        "\n",
        "- In order to considering market impact, I modify the markvitz portfolio by adding two terms: 1) fixed cost for Bid/Ask spread and 2) the last term is a dynamic term of market impact. The portfolio performance changed singifcantly. The return significantly reduced (40%) and volatility significantly increased (from 0% to 50%). Consequently, the sharpe ratio reduced about half of it.\n",
        "\n",
        "- One advantage of considering market impact is that the maximum drawdown has been succesullfy controlled. Intuitively, those maximum drawdown came from large postion change, which has been penzalized by the modified optimier.\n",
        "\n",
        "- In the future study, it worth to collect more trading data to find-tune the parameters and improve and precision of this study. \n",
        "\n",
        "\n",
        "\n"
      ]
    }
  ]
}