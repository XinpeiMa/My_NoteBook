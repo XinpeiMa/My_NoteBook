{
  "nbformat": 4,
  "nbformat_minor": 0,
  "metadata": {
    "colab": {
      "name": "APM_DataProject_XinpeiMa.ipynb",
      "provenance": [],
      "collapsed_sections": [],
      "machine_shape": "hm",
      "include_colab_link": true
    },
    "kernelspec": {
      "name": "python3",
      "language": "python",
      "display_name": "Python 3"
    },
    "pycharm": {
      "stem_cell": {
        "cell_type": "raw",
        "source": [],
        "metadata": {
          "collapsed": false
        }
      }
    }
  },
  "cells": [
    {
      "cell_type": "markdown",
      "metadata": {
        "id": "view-in-github",
        "colab_type": "text"
      },
      "source": [
        "<a href=\"https://colab.research.google.com/github/XinpeiMa/My_NoteBook/blob/master/APM_DataProject_XinpeiMa.ipynb\" target=\"_parent\"><img src=\"https://colab.research.google.com/assets/colab-badge.svg\" alt=\"Open In Colab\"/></a>"
      ]
    },
    {
      "cell_type": "markdown",
      "metadata": {
        "id": "mYvRXpauTi5D",
        "colab_type": "text"
      },
      "source": [
        "## (0) Data pre-processing\n",
        "- adjust datatype\n",
        "- sort date\n",
        "- count unique tickers"
      ]
    },
    {
      "cell_type": "code",
      "metadata": {
        "id": "ZOgxTI3xTa_b",
        "colab_type": "code",
        "pycharm": {
          "is_executing": false
        },
        "colab": {}
      },
      "source": [
        "import pandas as pd\n",
        "import numpy as np\n",
        "import random\n",
        "from functools import reduce\n",
        "import matplotlib.pylab as plt\n",
        "import seaborn as sns\n",
        "import statsmodels.api as sm\n",
        "from scipy.optimize import minimize\n",
        "random.seed(30)\n",
        "sns.set_style(\"darkgrid\")\n",
        "import warnings\n",
        "warnings.filterwarnings(\"ignore\")\n",
        "plt.figure(figsize=(15,9))\n",
        "%pylab inline"
      ],
      "execution_count": 0,
      "outputs": []
    },
    {
      "cell_type": "code",
      "metadata": {
        "id": "3X3e--MiZ40o",
        "colab_type": "code",
        "colab": {}
      },
      "source": [
        "from google.colab import drive\n",
        "drive.mount('/content/drive')"
      ],
      "execution_count": 0,
      "outputs": []
    },
    {
      "cell_type": "code",
      "metadata": {
        "pycharm": {
          "name": "#%%\n",
          "is_executing": false
        },
        "id": "vduGCkmaZuyW",
        "colab_type": "code",
        "colab": {}
      },
      "source": [
        "# Parameters\n",
        "path = \"drive/My Drive/My Classes/APM/DataProject/prices.csv\"\n",
        "annual_r = 0.015\n",
        "r = (annual_r + 1) ** (1. / 365.) - 1. # daily risk-less rate of return"
      ],
      "execution_count": 0,
      "outputs": []
    },
    {
      "cell_type": "code",
      "metadata": {
        "pycharm": {
          "name": "#%%\n",
          "is_executing": false
        },
        "id": "G_a0O3anZuyb",
        "colab_type": "code",
        "colab": {}
      },
      "source": [
        "def change_str_to_float(x):\n",
        "    if x == \".\":\n",
        "        return 0.\n",
        "    return float(x)"
      ],
      "execution_count": 0,
      "outputs": []
    },
    {
      "cell_type": "code",
      "metadata": {
        "pycharm": {
          "name": "#%%\n",
          "is_executing": false
        },
        "id": "EIIaj0GcZuyf",
        "colab_type": "code",
        "colab": {}
      },
      "source": [
        "df = pd.read_csv(path, header=0)\n",
        "df = df.loc[df.PRC != 'PRC', :]\n",
        "df['TICKER'] = df['TICKER'].astype(str)\n",
        "df['date'] = df['date'].astype(str)\n",
        "df['PRC'] = df['PRC'].apply(lambda x: change_str_to_float(x))\n",
        "df['VOL'] = df['VOL'].apply(lambda x: change_str_to_float(x))\n",
        "tickers = df.TICKER.unique().tolist()\n",
        "df.set_index('date', inplace=True)\n",
        "df.date = df.index\n",
        "df['Date'] = pd.to_datetime(df.date)\n",
        "df.sort_values(by='Date')\n",
        "print(df.TICKER.unique().tolist())"
      ],
      "execution_count": 0,
      "outputs": []
    },
    {
      "cell_type": "markdown",
      "metadata": {
        "collapsed": false,
        "id": "3Et69lslZuyi",
        "colab_type": "text"
      },
      "source": [
        "## (1) compute $v_t$ signal\n",
        "\n",
        "#### Rolling window out-of-sample forecasting\n",
        "\n",
        "- In order to compute $\\beta$, I implemented a rolling window out-of-sample approach that using a fixed number of the most recent data（i.e., 66 days) at each point of time. I examined the variance and bias value of applying different window size. Finally, I found that window size 66 yielded the best result (with minimal total error). \n",
        "\n",
        "- The beta that we get from regressing of asset's returns on the returns of the market represents the sensitivity of an asset's return stream to market-wide shocks, therefore $v_t$ represents a signal of stock idiosyncratic risk signal.\n"
      ]
    },
    {
      "cell_type": "code",
      "metadata": {
        "pycharm": {
          "name": "#%%\n",
          "is_executing": false
        },
        "id": "w2J4LhBkZuyj",
        "colab_type": "code",
        "colab": {}
      },
      "source": [
        "def calc_residual_reversion_signal(tk, df, window_size, r):\n",
        "    SPY = df.loc[df['TICKER'] == 'SPY', ['PRC', 'VOL']]\n",
        "    SPY.columns = [\"SPY_PRC\", \"SPY_VOL\"]\n",
        "    Stock = df.loc[df['TICKER'] == tk, ['PRC', 'VOL']]\n",
        "    merged = pd.merge(left=SPY, right=Stock, right_index=True, left_index=True, how='outer')\n",
        "    merged['stock_ret'] = np.log(merged.PRC) - np.log(merged.PRC.shift(1))\n",
        "    merged['market_ret'] = np.log(merged.SPY_PRC) - np.log(merged.SPY_PRC.shift(1))\n",
        "    cov = merged.stock_ret.rolling(window_size).cov(merged.market_ret.rolling(window_size))\n",
        "    var = merged.market_ret.rolling(window_size).var()\n",
        "    merged['beta'] = cov / var\n",
        "    merged['temp'] = merged['stock_ret'] - merged['market_ret'] * merged['beta']\n",
        "    merged['vt'] = merged['temp'].shift(1)\n",
        "    merged.drop(columns=['temp'], inplace=True)\n",
        "    return merged"
      ],
      "execution_count": 0,
      "outputs": []
    },
    {
      "cell_type": "markdown",
      "metadata": {
        "collapsed": false,
        "pycharm": {
          "name": "#%% md\n",
          "is_executing": false
        },
        "id": "PwUtovdmZuyl",
        "colab_type": "text"
      },
      "source": [
        "#### Find Optimal Window Size"
      ]
    },
    {
      "cell_type": "code",
      "metadata": {
        "pycharm": {
          "name": "#%%\n",
          "is_executing": false
        },
        "id": "KZQ6CVusZuyl",
        "colab_type": "code",
        "colab": {}
      },
      "source": [
        "windows = [22, 66, 132, 154, 176, 225, 500]\n",
        "bias_list = []\n",
        "variance_list = []\n",
        "for i in range(len(windows)):\n",
        "    print(\"Windows {} days\".format(windows[i]))\n",
        "    bias_res = 0.0\n",
        "    var_res = 0.0\n",
        "    count = 0\n",
        "    for ticker in tickers:\n",
        "        if ticker != 'SPY':\n",
        "            residual_reversion_df = calc_residual_reversion_signal(ticker, df, windows[i], r)\n",
        "            residual_reversion_df = residual_reversion_df.loc[residual_reversion_df['vt'].notnull(), :]\n",
        "\n",
        "            pred = residual_reversion_df['market_ret'] * residual_reversion_df['beta']\n",
        "            real = residual_reversion_df['stock_ret']\n",
        "            variance = np.mean(np.square(pred - pred.mean()))\n",
        "            bias = np.mean(np.square(real - pred.mean()))\n",
        "\n",
        "            if np.isfinite(variance) and np.isfinite(bias):\n",
        "                bias_res += bias\n",
        "                var_res += variance\n",
        "                count += 1\n",
        "\n",
        "    variance_list.append(var_res/count)\n",
        "    bias_list.append(bias_res/count)\n",
        "    "
      ],
      "execution_count": 0,
      "outputs": []
    },
    {
      "cell_type": "code",
      "metadata": {
        "pycharm": {
          "name": "#%%\n",
          "is_executing": false
        },
        "id": "G7cejYcPZuyo",
        "colab_type": "code",
        "colab": {}
      },
      "source": [
        "print(bias_list, variance_list)\n",
        "plot_df = pd.DataFrame({\"bias\": bias_list, \"variance\": variance_list}, index=[str(x) + \"d\" for x in windows])\n",
        "plot_df['total_error'] = plot_df.bias + plot_df.variance\n",
        "print(plot_df)\n",
        "fig, ax = plt.subplots(figsize=(16,9))\n",
        "ax.plot(plot_df.bias, 'o-', linewidth=2, markersize=6, label=\"bias\", alpha=0.5)\n",
        "ax.plot(plot_df.variance, 'o-', linewidth=2, markersize=6, label='variance', alpha=0.5)\n",
        "ax.plot(plot_df.total_error, 'o-', linewidth=2, markersize=6, label='total error')\n",
        "ax.plot(1, plot_df.total_error.min(), marker='o', markersize=6, color=\"red\", label='minimal')\n",
        "ax.set_xticklabels(plot_df.index.tolist())\n",
        "ax.legend()\n",
        "plt.show()"
      ],
      "execution_count": 0,
      "outputs": []
    },
    {
      "cell_type": "markdown",
      "metadata": {
        "collapsed": false,
        "pycharm": {
          "name": "#%% md\n"
        },
        "id": "0JE9QlFoZuyr",
        "colab_type": "text"
      },
      "source": [
        "From the above experiment, we select rolling window size 132 days, because it seems like the best variance-bias trade-off."
      ]
    },
    {
      "cell_type": "code",
      "metadata": {
        "id": "ALfptD1FjQID",
        "colab_type": "code",
        "pycharm": {
          "is_executing": false
        },
        "colab": {}
      },
      "source": [
        "rolling_window = 66"
      ],
      "execution_count": 0,
      "outputs": []
    },
    {
      "cell_type": "markdown",
      "metadata": {
        "id": "_TJDkohOxQKR",
        "colab_type": "text"
      },
      "source": [
        "#### An example of computed $v_t$ sigmal"
      ]
    },
    {
      "cell_type": "code",
      "metadata": {
        "id": "3jgo-rXOU9va",
        "colab_type": "code",
        "pycharm": {
          "is_executing": false
        },
        "colab": {}
      },
      "source": [
        "stock_signal_df = calc_residual_reversion_signal(\"IBM\", df, rolling_window, r)\n",
        "stock_signal_df.to_csv(\"K:\\My Drive\\PythonProjects\\APMDataProject\\ibm.csv\")\n",
        "display(stock_signal_df)"
      ],
      "execution_count": 0,
      "outputs": []
    },
    {
      "cell_type": "markdown",
      "metadata": {
        "id": "GzyQgtYDZWvF",
        "colab_type": "text"
      },
      "source": [
        "#### Does $v_t^1$ predict $r_{t, t+1}^i$ and $r_{t+1, t+2}^i$ etc.?\n",
        "I checked the $R^2$ and $p$ value between $v_t^1$ and $r_{t, t+1}^i$ and the  $R^2$ and $p$ between $v_t^1$ and $r_{t+1, t+2}^i$"
      ]
    },
    {
      "cell_type": "code",
      "metadata": {
        "id": "g_exXKiReSOW",
        "colab_type": "code",
        "pycharm": {
          "is_executing": false
        },
        "colab": {}
      },
      "source": [
        "def measure_predictive_capacity(df, x, y, time_lag):\n",
        "\t# if paired x, y if any value in x or y is none then exclude it\n",
        "\tdef remove_nan(x, y):\n",
        "\t\tpairs = []\n",
        "\t\tfor i in range(len(x)):\n",
        "\t\t\tif np.isnan(x[i]) or np.isnan(y[i]):\n",
        "\t\t\t\tcontinue\n",
        "\t\t\tpairs.append((x[i], y[i]))\n",
        "\t\treturn pairs\n",
        "\t\t\n",
        "    # test on out-of-sample part\n",
        "\tout_sample = df.loc[df[y].notnull(), :]\n",
        "\tout_sample['shift'] = out_sample.loc[:, x].shift(periods=time_lag)\n",
        "\txy = remove_nan(np.array(out_sample['shift'].values, dtype=np.float64), \n",
        "                    np.array(out_sample[y].values, dtype=np.float64))\n",
        "\tif len(xy) > 10:\n",
        "\t\tmodel = sm.OLS([i[0] for i in xy], [i[1] for i in xy])\n",
        "\t\tresults = model.fit()\n",
        "\t\treturn results.rsquared, results.pvalues[0]\n",
        "\treturn None, None"
      ],
      "execution_count": 0,
      "outputs": []
    },
    {
      "cell_type": "code",
      "metadata": {
        "id": "i2o7ghZ8hiXG",
        "colab_type": "code",
        "pycharm": {
          "is_executing": false
        },
        "colab": {}
      },
      "source": [
        "df_map = {}\n",
        "for ticker in tickers:\n",
        "    stock_signal_df = calc_residual_reversion_signal(ticker, df, rolling_window, r)\n",
        "    df_map[ticker] = stock_signal_df\n",
        "print(df_map.keys())"
      ],
      "execution_count": 0,
      "outputs": []
    },
    {
      "cell_type": "code",
      "metadata": {
        "pycharm": {
          "name": "#%%\n",
          "is_executing": false
        },
        "id": "1e7el374Zuyz",
        "colab_type": "code",
        "colab": {}
      },
      "source": [
        "time_lag_1, time_lag_2 = -1, -2\n",
        "time_lag_dependency_results = {}\n",
        "\n",
        "for ticker in tickers:\n",
        "    if ticker != 'SPY':\n",
        "        res = {}\n",
        "        stock_signal_df = df_map[ticker]\n",
        "        r_square_1, p_value_1 = measure_predictive_capacity(stock_signal_df, 'stock_ret', 'vt', time_lag_1)\n",
        "        r_square_2, p_value_2 = measure_predictive_capacity(stock_signal_df, 'stock_ret', 'vt', time_lag_2)\n",
        "        \n",
        "        if len((stock_signal_df['beta'].values.tolist())) > 1:\n",
        "            res['beta'] = stock_signal_df['beta'].values.tolist()[-1]\n",
        "            res['lag_1_rsquare'] = r_square_1\n",
        "            res['lag_1_pvalue'] = p_value_1\n",
        "            res['lag_2_rsquare'] = r_square_2\n",
        "            res['lag_2_pvalue'] = p_value_2\n",
        "\n",
        "        time_lag_dependency_results[ticker] = res\n",
        "    \n",
        "\n",
        "data = []\n",
        "for k, v in time_lag_dependency_results.items():\n",
        "    data.append([k] + list(v.values()))\n",
        "res = pd.DataFrame(data,  columns = ['ticker', 'beta', '1_step_rsquare', '1_step_p', '2_step_rsquare', '2_step_p']) \n",
        "res = np.round(res, decimals=2)\n",
        "\n",
        "print(time_lag_dependency_results)"
      ],
      "execution_count": 0,
      "outputs": []
    },
    {
      "cell_type": "code",
      "metadata": {
        "id": "lVxXpmeCpGt9",
        "colab_type": "code",
        "pycharm": {
          "is_executing": false
        },
        "colab": {}
      },
      "source": [
        "print(res.loc[:, ['1_step_rsquare', '1_step_p', '2_step_rsquare', '2_step_p']].describe())"
      ],
      "execution_count": 0,
      "outputs": []
    },
    {
      "cell_type": "markdown",
      "metadata": {
        "id": "BtIgZRSskzST",
        "colab_type": "text"
      },
      "source": [
        "- From the statistic results, I found that even though the generated signal $v_t$ doesnt have significantly association between future returns (lag 1 and lag 2) based on the observation that the average $p$ value is high. \n",
        "- The association between \n",
        " $v_t$ and $r_{t+2}$ is stronger than the association between $v_t$ and $r_{t+1}$, which indicates a mean-reversion natural."
      ]
    },
    {
      "cell_type": "markdown",
      "metadata": {
        "id": "gYF8tClXpUco",
        "colab_type": "text"
      },
      "source": [
        "## (2) Create the corresponding Markowitz portfolio and track its performance\n",
        "Basic Assumptions: \n",
        "- We assumed that investors are able to trade without delay or cost.\n",
        "- We assumed that all investors are \"mean-variance optimizers\". What this essentially means is that they would only \n",
        "demand portfolios that have the highest return attainable for a given level of risk. \n",
        "- Here, I only consider long only portfolio in order to simplify borrow/lend procedure."
      ]
    },
    {
      "cell_type": "markdown",
      "metadata": {
        "collapsed": false,
        "id": "TPt8W2QJZuy2",
        "colab_type": "text"
      },
      "source": [
        "Data Preparation for Portfolio Construction"
      ]
    },
    {
      "cell_type": "code",
      "metadata": {
        "id": "x_36VJKEL9lk",
        "colab_type": "code",
        "pycharm": {
          "is_executing": false
        },
        "colab": {}
      },
      "source": [
        "selected_df_list = []\n",
        "for ticker in df_map.keys():\n",
        "    temp_df = df_map[ticker]\n",
        "    temp_df_vt = temp_df.loc[temp_df['vt'].notnull(), ['stock_ret', 'beta', 'vt', 'PRC', 'VOL']].copy()\n",
        "    temp_df_vt = temp_df_vt.loc[~temp_df_vt.index.duplicated(keep='first')]\n",
        "    temp_df_vt.columns = [ticker + '_ret', ticker + '_beta', ticker + '_vt', ticker + \"_prc\", ticker + \"_vol\"]\n",
        "    selected_df_list.append(temp_df_vt)\n",
        "vt_df = reduce(lambda x, y: pd.merge(x, y, left_index=True, right_index=True, how='outer'), selected_df_list)\n",
        "print(vt_df.columns)\n",
        "print(\"{} of stocks are included\".format(len(selected_df_list)))"
      ],
      "execution_count": 0,
      "outputs": []
    },
    {
      "cell_type": "code",
      "metadata": {
        "id": "TQhcZNJQsHqk",
        "colab_type": "code",
        "pycharm": {
          "is_executing": false
        },
        "colab": {}
      },
      "source": [
        "SPY_var = df.loc[df.TICKER == \"SPY\", 'PRC'].rolling(rolling_window).var()\n",
        "SPY_mean = df.loc[df.TICKER == \"SPY\", 'PRC'].rolling(rolling_window).mean()\n",
        "SPY_ = pd.concat([SPY_mean, SPY_var], axis=1)\n",
        "SPY_.columns = ['SPY_mean', 'SPY_var']"
      ],
      "execution_count": 0,
      "outputs": []
    },
    {
      "cell_type": "code",
      "metadata": {
        "id": "E47g1CTXVHl9",
        "colab_type": "code",
        "pycharm": {
          "is_executing": false
        },
        "colab": {}
      },
      "source": [
        "portfolio_prep_df = vt_df.merge(SPY_, left_index=True, right_index=True, how='left')\n",
        "prep_cols = portfolio_prep_df.columns\n",
        "for col in prep_cols:\n",
        "    if col[-3:] == '_vt':\n",
        "        portfolio_prep_df[col + '_var'] = portfolio_prep_df[col].rolling(rolling_window).var()\n",
        "portfolio_prep_df = portfolio_prep_df.drop_duplicates()"
      ],
      "execution_count": 0,
      "outputs": []
    },
    {
      "cell_type": "code",
      "metadata": {
        "pycharm": {
          "name": "#%%\n",
          "is_executing": false
        },
        "id": "AfD1MAB7Zuy8",
        "colab_type": "code",
        "colab": {}
      },
      "source": [
        "all_dates = portfolio_prep_df.index.unique().tolist()"
      ],
      "execution_count": 0,
      "outputs": []
    },
    {
      "cell_type": "markdown",
      "metadata": {
        "collapsed": false,
        "pycharm": {
          "name": "#%% md\n"
        },
        "id": "mpLFcv03Zuy9",
        "colab_type": "text"
      },
      "source": [
        "Based on our slides, we compute the risk tolerance as\n",
        "$\\kappa_M = \\frac{\\mathbb{E}R_M -  \\mu_0}{\\mathbb{Var} R_M}$.\n",
        "Weights $w$ satisfies constrained $\\sum_i{w_i} =1$ and $w_i \\in [0, 1]$.\n"
      ]
    },
    {
      "cell_type": "code",
      "metadata": {
        "pycharm": {
          "name": "#%%\n",
          "is_executing": false
        },
        "id": "LjPxq-4DZuy-",
        "colab_type": "code",
        "colab": {}
      },
      "source": [
        "def compute_covariance(date, prep_df):\n",
        "    vt_vars, betas, returns, included_tickers = [], [], [], []\n",
        "\n",
        "    for tk in df_map.keys():\n",
        "        try:\n",
        "            beta, vt_var, ret = prep_df.at[date, tk + '_beta'], \\\n",
        "                                prep_df.at[date, tk + '_vt_var']/rolling_window, \\\n",
        "                                prep_df.at[date, tk + '_ret']\n",
        "            if np.isfinite(beta) and np.isfinite(vt_var) and np.isfinite(ret):\n",
        "                betas.append(beta)\n",
        "                vt_vars.append(vt_var)\n",
        "                returns.append(ret)\n",
        "                included_tickers.append(tk)\n",
        "        except:\n",
        "            continue\n",
        "\n",
        "    betas = np.array(betas).reshape(-1, 1)\n",
        "    SPY_var = prep_df.at[date, 'SPY_var'] / rolling_window\n",
        "    cov = betas.dot(betas.transpose()) * SPY_var + np.diag(np.array(vt_vars))\n",
        "    return [cov, np.array(returns), included_tickers]"
      ],
      "execution_count": 0,
      "outputs": []
    },
    {
      "cell_type": "code",
      "metadata": {
        "id": "bveMAB6Bu9cz",
        "colab_type": "code",
        "pycharm": {
          "is_executing": false
        },
        "colab": {}
      },
      "source": [
        "def get_markovitz_weights(date, prep_df, r):\n",
        "    cov, rets, tks = compute_covariance(date, prep_df)\n",
        "    risk_adjusted_returns = np.array(rets) - np.ones(len(rets)) * r\n",
        "    SPY_var = prep_df.at[date, 'SPY_var'] / rolling_window\n",
        "    kappa = (prep_df.at[date, 'SPY_mean'] - r)/ SPY_var\n",
        "    def objective(w):\n",
        "        return 0.5 * kappa * w.transpose().dot(cov).dot(w) - np.dot(w, risk_adjusted_returns) \n",
        "\n",
        "    w0 = [1.0/len(risk_adjusted_returns) for _ in range(len(risk_adjusted_returns))]\n",
        "    e = np.ones(len(risk_adjusted_returns))\n",
        "    bnds = [(0., 1.) for _ in range(len(risk_adjusted_returns))]\n",
        "    const = ({'type': 'eq', 'fun': lambda w: np.dot(w, e) - 1.})\n",
        "    try:\n",
        "        solution = minimize(fun=objective, x0=w0, method='SLSQP', bounds=bnds, constraints=const)\n",
        "        w = solution.x.round(6)\n",
        "    except:\n",
        "        w = None\n",
        "    return tks, w"
      ],
      "execution_count": 0,
      "outputs": []
    },
    {
      "cell_type": "code",
      "metadata": {
        "pycharm": {
          "name": "#%%\n",
          "is_executing": false
        },
        "id": "nMzPM_64ZuzA",
        "colab_type": "code",
        "colab": {}
      },
      "source": [
        "def get_next_day(date):\n",
        "    curr_index = all_dates.index(date)\n",
        "    return all_dates[curr_index + 1] if curr_index + 1 < len(all_dates) else None"
      ],
      "execution_count": 0,
      "outputs": []
    },
    {
      "cell_type": "code",
      "metadata": {
        "pycharm": {
          "name": "#%%\n",
          "is_executing": false
        },
        "id": "b4cZnco8ZuzB",
        "colab_type": "code",
        "colab": {}
      },
      "source": [
        "def calc_portfolio_ret(date, weights, tks, df):\n",
        "    rets = []\n",
        "    for tk in tks:\n",
        "        rets.append(df.at[date, tk + \"_ret\"])\n",
        "    portfolio_return = np.array(rets).dot(weights)\n",
        "    return portfolio_return"
      ],
      "execution_count": 0,
      "outputs": []
    },
    {
      "cell_type": "code",
      "metadata": {
        "id": "W-LLdALQyqjh",
        "colab_type": "code",
        "colab": {}
      },
      "source": [
        "# maximum drawdown\n",
        "def MDD(xs):\n",
        "    i = np.argmax(np.maximum.accumulate(xs) - xs) # end of the period\n",
        "    j = np.argmax(xs[:i]) # start of period\n",
        "    return abs(xs[i]-xs[j])"
      ],
      "execution_count": 0,
      "outputs": []
    },
    {
      "cell_type": "code",
      "metadata": {
        "id": "_IsEj0JeuUSs",
        "colab_type": "code",
        "pycharm": {
          "is_executing": false
        },
        "colab": {}
      },
      "source": [
        "def track_portfolio_performance(start_date_index, end_date_index):\n",
        "    pnl = 100.\n",
        "    ret = None\n",
        "    portfolio_history = {}\n",
        "    pnl_list = [100.]\n",
        "    for i in range(start_date_index, end_date_index):\n",
        "        curr_day = all_dates[i]\n",
        "        next_day = get_next_day(curr_day)\n",
        "        markovitz_rs = get_markovitz_weights(curr_day, portfolio_prep_df, r)\n",
        "\n",
        "        if markovitz_rs[1] is not None:\n",
        "            curr_tickers, curr_weights = markovitz_rs[0], markovitz_rs[1]\n",
        "            ret = calc_portfolio_ret(next_day, curr_weights, curr_tickers, portfolio_prep_df)\n",
        "            if i == start_date_index:\n",
        "                portfolio_history[curr_day] = [ret, pnl, 0.]\n",
        "        if not np.isfinite(ret):\n",
        "            ret = 0.\n",
        "        pnl *= np.exp(ret)\n",
        "        pnl_list.append(pnl)\n",
        "        try:\n",
        "            portfolio_history[next_day] = [ret, pnl, MDD(pnl_list)]\n",
        "        except:\n",
        "            portfolio_history[next_day] = [ret, pnl, 0]\n",
        "\n",
        "    return portfolio_history"
      ],
      "execution_count": 0,
      "outputs": []
    },
    {
      "cell_type": "markdown",
      "metadata": {
        "collapsed": false,
        "pycharm": {
          "name": "#%% md\n"
        },
        "id": "wpM95V5eZuzF",
        "colab_type": "text"
      },
      "source": [
        "Since we have full out-of-sample data for 2009, 2010 and 2011 due to the rolling window approach. \n",
        "We keep track of the monthly portfolio for the three years."
      ]
    },
    {
      "cell_type": "code",
      "metadata": {
        "id": "HX0J-UngcRqk",
        "colab_type": "code",
        "colab": {}
      },
      "source": [
        "def find_montly_index(year):\n",
        "    monthly_index = {}\n",
        "    for i in range(len(all_dates)):\n",
        "        if all_dates[i][:4] == year:\n",
        "            if all_dates[i][4:6] not in monthly_index:\n",
        "                monthly_index[all_dates[i][4:6]] = []\n",
        "            monthly_index[all_dates[i][4:6]].append(i)\n",
        "    return monthly_index"
      ],
      "execution_count": 0,
      "outputs": []
    },
    {
      "cell_type": "code",
      "metadata": {
        "pycharm": {
          "name": "#%%\n",
          "is_executing": false
        },
        "id": "9g3GpvL1ZuzF",
        "colab_type": "code",
        "colab": {}
      },
      "source": [
        "index_2009 = find_montly_index('2009')\n",
        "print(index_2009)\n",
        "res_2009 = dict()\n",
        "for mo in index_2009.keys():\n",
        "    start, end = min(index_2009[mo]), max(index_2009[mo])\n",
        "    portfolio = track_portfolio_performance(start, end)\n",
        "    portfolio_df = pd.DataFrame.from_dict(portfolio, orient='index')\n",
        "    portfolio_df.columns = [\"ret\", \"pnl\", 'mmd']\n",
        "    res_2009[mo] = []\n",
        "    res_2009[mo].append(portfolio_df['ret'].mean() - r)\n",
        "    res_2009[mo].append(portfolio_df['ret'].std()/np.sqrt(len(index_2009[mo])))\n",
        "    res_2009[mo].append(portfolio_df['mmd'].max())"
      ],
      "execution_count": 0,
      "outputs": []
    },
    {
      "cell_type": "code",
      "metadata": {
        "id": "mG68ohT6qlMp",
        "colab_type": "code",
        "colab": {
          "base_uri": "https://localhost:8080/",
          "height": 709
        },
        "outputId": "fb886c2e-ed76-4f50-9538-4b7a3b85ef05"
      },
      "source": [
        "df_2009_1 = pd.DataFrame(res_2009, index=['average excess returns', 'vol', 'mmd']).T\n",
        "df_2009_1['sharpe ratio'] = df_2009_1['average excess return'] - df_2009_1['vol']\n",
        "display(df_2009_1)\n",
        "display(df_2009_1.describe())"
      ],
      "execution_count": 30,
      "outputs": [
        {
          "output_type": "display_data",
          "data": {
            "text/html": [
              "<div>\n",
              "<style scoped>\n",
              "    .dataframe tbody tr th:only-of-type {\n",
              "        vertical-align: middle;\n",
              "    }\n",
              "\n",
              "    .dataframe tbody tr th {\n",
              "        vertical-align: top;\n",
              "    }\n",
              "\n",
              "    .dataframe thead th {\n",
              "        text-align: right;\n",
              "    }\n",
              "</style>\n",
              "<table border=\"1\" class=\"dataframe\">\n",
              "  <thead>\n",
              "    <tr style=\"text-align: right;\">\n",
              "      <th></th>\n",
              "      <th>average excess returns</th>\n",
              "      <th>vol</th>\n",
              "      <th>mmd</th>\n",
              "    </tr>\n",
              "  </thead>\n",
              "  <tbody>\n",
              "    <tr>\n",
              "      <th>01</th>\n",
              "      <td>0.579969</td>\n",
              "      <td>0.151852</td>\n",
              "      <td>2.300242</td>\n",
              "    </tr>\n",
              "    <tr>\n",
              "      <th>02</th>\n",
              "      <td>0.599056</td>\n",
              "      <td>0.100263</td>\n",
              "      <td>0.000000</td>\n",
              "    </tr>\n",
              "    <tr>\n",
              "      <th>03</th>\n",
              "      <td>0.814004</td>\n",
              "      <td>0.129195</td>\n",
              "      <td>0.000000</td>\n",
              "    </tr>\n",
              "    <tr>\n",
              "      <th>04</th>\n",
              "      <td>0.185003</td>\n",
              "      <td>0.127062</td>\n",
              "      <td>28.830281</td>\n",
              "    </tr>\n",
              "    <tr>\n",
              "      <th>05</th>\n",
              "      <td>0.001815</td>\n",
              "      <td>0.003053</td>\n",
              "      <td>4.610837</td>\n",
              "    </tr>\n",
              "    <tr>\n",
              "      <th>06</th>\n",
              "      <td>0.266027</td>\n",
              "      <td>0.118339</td>\n",
              "      <td>4.073553</td>\n",
              "    </tr>\n",
              "    <tr>\n",
              "      <th>07</th>\n",
              "      <td>0.328838</td>\n",
              "      <td>0.112796</td>\n",
              "      <td>2588.760492</td>\n",
              "    </tr>\n",
              "    <tr>\n",
              "      <th>08</th>\n",
              "      <td>0.001944</td>\n",
              "      <td>0.003631</td>\n",
              "      <td>4.789287</td>\n",
              "    </tr>\n",
              "    <tr>\n",
              "      <th>09</th>\n",
              "      <td>0.001999</td>\n",
              "      <td>0.002052</td>\n",
              "      <td>3.545142</td>\n",
              "    </tr>\n",
              "    <tr>\n",
              "      <th>10</th>\n",
              "      <td>0.078771</td>\n",
              "      <td>0.076717</td>\n",
              "      <td>8.289380</td>\n",
              "    </tr>\n",
              "    <tr>\n",
              "      <th>11</th>\n",
              "      <td>0.072809</td>\n",
              "      <td>0.038005</td>\n",
              "      <td>8.281696</td>\n",
              "    </tr>\n",
              "    <tr>\n",
              "      <th>12</th>\n",
              "      <td>0.001492</td>\n",
              "      <td>0.002812</td>\n",
              "      <td>4.602247</td>\n",
              "    </tr>\n",
              "  </tbody>\n",
              "</table>\n",
              "</div>"
            ],
            "text/plain": [
              "    average excess returns       vol          mmd\n",
              "01                0.579969  0.151852     2.300242\n",
              "02                0.599056  0.100263     0.000000\n",
              "03                0.814004  0.129195     0.000000\n",
              "04                0.185003  0.127062    28.830281\n",
              "05                0.001815  0.003053     4.610837\n",
              "06                0.266027  0.118339     4.073553\n",
              "07                0.328838  0.112796  2588.760492\n",
              "08                0.001944  0.003631     4.789287\n",
              "09                0.001999  0.002052     3.545142\n",
              "10                0.078771  0.076717     8.289380\n",
              "11                0.072809  0.038005     8.281696\n",
              "12                0.001492  0.002812     4.602247"
            ]
          },
          "metadata": {
            "tags": []
          }
        },
        {
          "output_type": "display_data",
          "data": {
            "text/html": [
              "<div>\n",
              "<style scoped>\n",
              "    .dataframe tbody tr th:only-of-type {\n",
              "        vertical-align: middle;\n",
              "    }\n",
              "\n",
              "    .dataframe tbody tr th {\n",
              "        vertical-align: top;\n",
              "    }\n",
              "\n",
              "    .dataframe thead th {\n",
              "        text-align: right;\n",
              "    }\n",
              "</style>\n",
              "<table border=\"1\" class=\"dataframe\">\n",
              "  <thead>\n",
              "    <tr style=\"text-align: right;\">\n",
              "      <th></th>\n",
              "      <th>average excess returns</th>\n",
              "      <th>vol</th>\n",
              "      <th>mmd</th>\n",
              "    </tr>\n",
              "  </thead>\n",
              "  <tbody>\n",
              "    <tr>\n",
              "      <th>count</th>\n",
              "      <td>12.000000</td>\n",
              "      <td>12.000000</td>\n",
              "      <td>12.000000</td>\n",
              "    </tr>\n",
              "    <tr>\n",
              "      <th>mean</th>\n",
              "      <td>0.244311</td>\n",
              "      <td>0.072148</td>\n",
              "      <td>221.506930</td>\n",
              "    </tr>\n",
              "    <tr>\n",
              "      <th>std</th>\n",
              "      <td>0.280621</td>\n",
              "      <td>0.058446</td>\n",
              "      <td>745.530035</td>\n",
              "    </tr>\n",
              "    <tr>\n",
              "      <th>min</th>\n",
              "      <td>0.001492</td>\n",
              "      <td>0.002052</td>\n",
              "      <td>0.000000</td>\n",
              "    </tr>\n",
              "    <tr>\n",
              "      <th>25%</th>\n",
              "      <td>0.001986</td>\n",
              "      <td>0.003486</td>\n",
              "      <td>3.233917</td>\n",
              "    </tr>\n",
              "    <tr>\n",
              "      <th>50%</th>\n",
              "      <td>0.131887</td>\n",
              "      <td>0.088490</td>\n",
              "      <td>4.606542</td>\n",
              "    </tr>\n",
              "    <tr>\n",
              "      <th>75%</th>\n",
              "      <td>0.391621</td>\n",
              "      <td>0.120520</td>\n",
              "      <td>8.283617</td>\n",
              "    </tr>\n",
              "    <tr>\n",
              "      <th>max</th>\n",
              "      <td>0.814004</td>\n",
              "      <td>0.151852</td>\n",
              "      <td>2588.760492</td>\n",
              "    </tr>\n",
              "  </tbody>\n",
              "</table>\n",
              "</div>"
            ],
            "text/plain": [
              "       average excess returns        vol          mmd\n",
              "count               12.000000  12.000000    12.000000\n",
              "mean                 0.244311   0.072148   221.506930\n",
              "std                  0.280621   0.058446   745.530035\n",
              "min                  0.001492   0.002052     0.000000\n",
              "25%                  0.001986   0.003486     3.233917\n",
              "50%                  0.131887   0.088490     4.606542\n",
              "75%                  0.391621   0.120520     8.283617\n",
              "max                  0.814004   0.151852  2588.760492"
            ]
          },
          "metadata": {
            "tags": []
          }
        }
      ]
    },
    {
      "cell_type": "code",
      "metadata": {
        "id": "rH7R1rbUis_C",
        "colab_type": "code",
        "colab": {}
      },
      "source": [
        "index_2010 =  find_montly_index('2010')\n",
        "res_2010 = dict()\n",
        "for mo in index_2010.keys():\n",
        "    start, end = min(index_2010[mo]), max(index_2010[mo])\n",
        "    portfolio = track_portfolio_performance(start, end)\n",
        "    portfolio_df = pd.DataFrame.from_dict(portfolio, orient='index')\n",
        "    portfolio_df.columns = [\"ret\", \"pnl\", 'mmd']\n",
        "    res_2010[mo] = []\n",
        "    res_2010[mo].append(portfolio_df['ret'].mean() - r)\n",
        "    res_2010[mo].append(portfolio_df['ret'].std())\n",
        "    res_2010[mo].append(portfolio_df['mmd'].max())"
      ],
      "execution_count": 0,
      "outputs": []
    },
    {
      "cell_type": "code",
      "metadata": {
        "id": "VhHyDd5Qq8po",
        "colab_type": "code",
        "colab": {
          "base_uri": "https://localhost:8080/",
          "height": 709
        },
        "outputId": "a3538d0f-ebaa-4401-fc36-0a00da7d4728"
      },
      "source": [
        "df_2010_1 = pd.DataFrame(res_2010, index=['average excess returns', 'vol', 'mmd']).T\n",
        "df_2010_1['sharpe ratio'] = df_2010_1['average excess return'] - df_2010_1['vol']\n",
        "display(df_2010_1)\n",
        "display(df_2010_1.describe())"
      ],
      "execution_count": 32,
      "outputs": [
        {
          "output_type": "display_data",
          "data": {
            "text/html": [
              "<div>\n",
              "<style scoped>\n",
              "    .dataframe tbody tr th:only-of-type {\n",
              "        vertical-align: middle;\n",
              "    }\n",
              "\n",
              "    .dataframe tbody tr th {\n",
              "        vertical-align: top;\n",
              "    }\n",
              "\n",
              "    .dataframe thead th {\n",
              "        text-align: right;\n",
              "    }\n",
              "</style>\n",
              "<table border=\"1\" class=\"dataframe\">\n",
              "  <thead>\n",
              "    <tr style=\"text-align: right;\">\n",
              "      <th></th>\n",
              "      <th>average excess returns</th>\n",
              "      <th>vol</th>\n",
              "      <th>mmd</th>\n",
              "    </tr>\n",
              "  </thead>\n",
              "  <tbody>\n",
              "    <tr>\n",
              "      <th>01</th>\n",
              "      <td>0.100665</td>\n",
              "      <td>0.188038</td>\n",
              "      <td>4.917541</td>\n",
              "    </tr>\n",
              "    <tr>\n",
              "      <th>02</th>\n",
              "      <td>0.364856</td>\n",
              "      <td>0.177507</td>\n",
              "      <td>0.000000</td>\n",
              "    </tr>\n",
              "    <tr>\n",
              "      <th>03</th>\n",
              "      <td>0.164005</td>\n",
              "      <td>0.237528</td>\n",
              "      <td>5.448070</td>\n",
              "    </tr>\n",
              "    <tr>\n",
              "      <th>04</th>\n",
              "      <td>0.057889</td>\n",
              "      <td>0.036113</td>\n",
              "      <td>1.688045</td>\n",
              "    </tr>\n",
              "    <tr>\n",
              "      <th>05</th>\n",
              "      <td>0.544171</td>\n",
              "      <td>0.787888</td>\n",
              "      <td>65.577764</td>\n",
              "    </tr>\n",
              "    <tr>\n",
              "      <th>06</th>\n",
              "      <td>0.297073</td>\n",
              "      <td>0.149229</td>\n",
              "      <td>0.000000</td>\n",
              "    </tr>\n",
              "    <tr>\n",
              "      <th>07</th>\n",
              "      <td>0.640515</td>\n",
              "      <td>1.231943</td>\n",
              "      <td>825335.503709</td>\n",
              "    </tr>\n",
              "    <tr>\n",
              "      <th>08</th>\n",
              "      <td>0.098921</td>\n",
              "      <td>0.200674</td>\n",
              "      <td>3.148638</td>\n",
              "    </tr>\n",
              "    <tr>\n",
              "      <th>09</th>\n",
              "      <td>0.415016</td>\n",
              "      <td>1.448861</td>\n",
              "      <td>16356.995460</td>\n",
              "    </tr>\n",
              "    <tr>\n",
              "      <th>10</th>\n",
              "      <td>0.052936</td>\n",
              "      <td>0.038108</td>\n",
              "      <td>2.027311</td>\n",
              "    </tr>\n",
              "    <tr>\n",
              "      <th>11</th>\n",
              "      <td>0.041258</td>\n",
              "      <td>0.038804</td>\n",
              "      <td>1.557215</td>\n",
              "    </tr>\n",
              "    <tr>\n",
              "      <th>12</th>\n",
              "      <td>0.021103</td>\n",
              "      <td>0.038796</td>\n",
              "      <td>4.291714</td>\n",
              "    </tr>\n",
              "  </tbody>\n",
              "</table>\n",
              "</div>"
            ],
            "text/plain": [
              "    average excess returns       vol            mmd\n",
              "01                0.100665  0.188038       4.917541\n",
              "02                0.364856  0.177507       0.000000\n",
              "03                0.164005  0.237528       5.448070\n",
              "04                0.057889  0.036113       1.688045\n",
              "05                0.544171  0.787888      65.577764\n",
              "06                0.297073  0.149229       0.000000\n",
              "07                0.640515  1.231943  825335.503709\n",
              "08                0.098921  0.200674       3.148638\n",
              "09                0.415016  1.448861   16356.995460\n",
              "10                0.052936  0.038108       2.027311\n",
              "11                0.041258  0.038804       1.557215\n",
              "12                0.021103  0.038796       4.291714"
            ]
          },
          "metadata": {
            "tags": []
          }
        },
        {
          "output_type": "display_data",
          "data": {
            "text/html": [
              "<div>\n",
              "<style scoped>\n",
              "    .dataframe tbody tr th:only-of-type {\n",
              "        vertical-align: middle;\n",
              "    }\n",
              "\n",
              "    .dataframe tbody tr th {\n",
              "        vertical-align: top;\n",
              "    }\n",
              "\n",
              "    .dataframe thead th {\n",
              "        text-align: right;\n",
              "    }\n",
              "</style>\n",
              "<table border=\"1\" class=\"dataframe\">\n",
              "  <thead>\n",
              "    <tr style=\"text-align: right;\">\n",
              "      <th></th>\n",
              "      <th>average excess returns</th>\n",
              "      <th>vol</th>\n",
              "      <th>mmd</th>\n",
              "    </tr>\n",
              "  </thead>\n",
              "  <tbody>\n",
              "    <tr>\n",
              "      <th>count</th>\n",
              "      <td>12.000000</td>\n",
              "      <td>12.000000</td>\n",
              "      <td>12.000000</td>\n",
              "    </tr>\n",
              "    <tr>\n",
              "      <th>mean</th>\n",
              "      <td>0.233201</td>\n",
              "      <td>0.381124</td>\n",
              "      <td>70148.429622</td>\n",
              "    </tr>\n",
              "    <tr>\n",
              "      <th>std</th>\n",
              "      <td>0.213737</td>\n",
              "      <td>0.494164</td>\n",
              "      <td>237868.684789</td>\n",
              "    </tr>\n",
              "    <tr>\n",
              "      <th>min</th>\n",
              "      <td>0.021103</td>\n",
              "      <td>0.036113</td>\n",
              "      <td>0.000000</td>\n",
              "    </tr>\n",
              "    <tr>\n",
              "      <th>25%</th>\n",
              "      <td>0.056651</td>\n",
              "      <td>0.038802</td>\n",
              "      <td>1.655338</td>\n",
              "    </tr>\n",
              "    <tr>\n",
              "      <th>50%</th>\n",
              "      <td>0.132335</td>\n",
              "      <td>0.182772</td>\n",
              "      <td>3.720176</td>\n",
              "    </tr>\n",
              "    <tr>\n",
              "      <th>75%</th>\n",
              "      <td>0.377396</td>\n",
              "      <td>0.375118</td>\n",
              "      <td>20.480494</td>\n",
              "    </tr>\n",
              "    <tr>\n",
              "      <th>max</th>\n",
              "      <td>0.640515</td>\n",
              "      <td>1.448861</td>\n",
              "      <td>825335.503709</td>\n",
              "    </tr>\n",
              "  </tbody>\n",
              "</table>\n",
              "</div>"
            ],
            "text/plain": [
              "       average excess returns        vol            mmd\n",
              "count               12.000000  12.000000      12.000000\n",
              "mean                 0.233201   0.381124   70148.429622\n",
              "std                  0.213737   0.494164  237868.684789\n",
              "min                  0.021103   0.036113       0.000000\n",
              "25%                  0.056651   0.038802       1.655338\n",
              "50%                  0.132335   0.182772       3.720176\n",
              "75%                  0.377396   0.375118      20.480494\n",
              "max                  0.640515   1.448861  825335.503709"
            ]
          },
          "metadata": {
            "tags": []
          }
        }
      ]
    },
    {
      "cell_type": "code",
      "metadata": {
        "pycharm": {
          "name": "#%%\n",
          "is_executing": false
        },
        "id": "-HTz-xnGZuzH",
        "colab_type": "code",
        "colab": {}
      },
      "source": [
        "index_2011 =  find_montly_index('2011')\n",
        "print(index_2011)\n",
        "res_2011 = dict()\n",
        "for mo in index_2011.keys():\n",
        "    start, end = min(index_2011[mo]), max(index_2011[mo])\n",
        "    portfolio = track_portfolio_performance(start, end)\n",
        "    portfolio_df = pd.DataFrame.from_dict(portfolio, orient='index')\n",
        "    portfolio_df.columns = [\"ret\", \"pnl\", 'mmd']\n",
        "    res_2011[mo] = []\n",
        "    res_2011[mo].append(portfolio_df['ret'].mean() - r)\n",
        "    res_2011[mo].append(portfolio_df['ret'].std()/np.sqrt(len(index_2011[mo])))\n",
        "    res_2011[mo].append(portfolio_df['mmd'].max())"
      ],
      "execution_count": 0,
      "outputs": []
    },
    {
      "cell_type": "code",
      "metadata": {
        "id": "wV14l3Oqq_0i",
        "colab_type": "code",
        "colab": {
          "base_uri": "https://localhost:8080/",
          "height": 709
        },
        "outputId": "d9b7ba19-12e7-4ffa-fdb9-12aeca2988b8"
      },
      "source": [
        "df_2011_1 = pd.DataFrame(res_2011, index=['average excess returns', 'vol', 'mmd']).T\n",
        "df_2011_1['sharpe ratio'] = df_2011_1['average excess return'] - df_2011_1['vol']\n",
        "display(df_2011_1)\n",
        "display(df_2011_1.describe())"
      ],
      "execution_count": 34,
      "outputs": [
        {
          "output_type": "display_data",
          "data": {
            "text/html": [
              "<div>\n",
              "<style scoped>\n",
              "    .dataframe tbody tr th:only-of-type {\n",
              "        vertical-align: middle;\n",
              "    }\n",
              "\n",
              "    .dataframe tbody tr th {\n",
              "        vertical-align: top;\n",
              "    }\n",
              "\n",
              "    .dataframe thead th {\n",
              "        text-align: right;\n",
              "    }\n",
              "</style>\n",
              "<table border=\"1\" class=\"dataframe\">\n",
              "  <thead>\n",
              "    <tr style=\"text-align: right;\">\n",
              "      <th></th>\n",
              "      <th>average excess returns</th>\n",
              "      <th>vol</th>\n",
              "      <th>mmd</th>\n",
              "    </tr>\n",
              "  </thead>\n",
              "  <tbody>\n",
              "    <tr>\n",
              "      <th>01</th>\n",
              "      <td>0.068662</td>\n",
              "      <td>0.005571</td>\n",
              "      <td>0.000000e+00</td>\n",
              "    </tr>\n",
              "    <tr>\n",
              "      <th>02</th>\n",
              "      <td>0.062044</td>\n",
              "      <td>0.007749</td>\n",
              "      <td>1.201352e+00</td>\n",
              "    </tr>\n",
              "    <tr>\n",
              "      <th>03</th>\n",
              "      <td>0.624013</td>\n",
              "      <td>0.139111</td>\n",
              "      <td>0.000000e+00</td>\n",
              "    </tr>\n",
              "    <tr>\n",
              "      <th>04</th>\n",
              "      <td>0.638935</td>\n",
              "      <td>0.161018</td>\n",
              "      <td>0.000000e+00</td>\n",
              "    </tr>\n",
              "    <tr>\n",
              "      <th>05</th>\n",
              "      <td>0.222071</td>\n",
              "      <td>0.081479</td>\n",
              "      <td>6.026495e-01</td>\n",
              "    </tr>\n",
              "    <tr>\n",
              "      <th>06</th>\n",
              "      <td>0.105015</td>\n",
              "      <td>0.020075</td>\n",
              "      <td>2.388797e+00</td>\n",
              "    </tr>\n",
              "    <tr>\n",
              "      <th>07</th>\n",
              "      <td>0.679151</td>\n",
              "      <td>0.333670</td>\n",
              "      <td>3.740290e+06</td>\n",
              "    </tr>\n",
              "    <tr>\n",
              "      <th>08</th>\n",
              "      <td>0.474814</td>\n",
              "      <td>0.102887</td>\n",
              "      <td>0.000000e+00</td>\n",
              "    </tr>\n",
              "    <tr>\n",
              "      <th>09</th>\n",
              "      <td>0.656541</td>\n",
              "      <td>0.121138</td>\n",
              "      <td>4.159798e+04</td>\n",
              "    </tr>\n",
              "    <tr>\n",
              "      <th>10</th>\n",
              "      <td>0.270430</td>\n",
              "      <td>0.154576</td>\n",
              "      <td>5.210281e+02</td>\n",
              "    </tr>\n",
              "    <tr>\n",
              "      <th>11</th>\n",
              "      <td>0.200025</td>\n",
              "      <td>0.161662</td>\n",
              "      <td>5.417060e+00</td>\n",
              "    </tr>\n",
              "    <tr>\n",
              "      <th>12</th>\n",
              "      <td>0.960004</td>\n",
              "      <td>0.387414</td>\n",
              "      <td>2.682870e+08</td>\n",
              "    </tr>\n",
              "  </tbody>\n",
              "</table>\n",
              "</div>"
            ],
            "text/plain": [
              "    average excess returns       vol           mmd\n",
              "01                0.068662  0.005571  0.000000e+00\n",
              "02                0.062044  0.007749  1.201352e+00\n",
              "03                0.624013  0.139111  0.000000e+00\n",
              "04                0.638935  0.161018  0.000000e+00\n",
              "05                0.222071  0.081479  6.026495e-01\n",
              "06                0.105015  0.020075  2.388797e+00\n",
              "07                0.679151  0.333670  3.740290e+06\n",
              "08                0.474814  0.102887  0.000000e+00\n",
              "09                0.656541  0.121138  4.159798e+04\n",
              "10                0.270430  0.154576  5.210281e+02\n",
              "11                0.200025  0.161662  5.417060e+00\n",
              "12                0.960004  0.387414  2.682870e+08"
            ]
          },
          "metadata": {
            "tags": []
          }
        },
        {
          "output_type": "display_data",
          "data": {
            "text/html": [
              "<div>\n",
              "<style scoped>\n",
              "    .dataframe tbody tr th:only-of-type {\n",
              "        vertical-align: middle;\n",
              "    }\n",
              "\n",
              "    .dataframe tbody tr th {\n",
              "        vertical-align: top;\n",
              "    }\n",
              "\n",
              "    .dataframe thead th {\n",
              "        text-align: right;\n",
              "    }\n",
              "</style>\n",
              "<table border=\"1\" class=\"dataframe\">\n",
              "  <thead>\n",
              "    <tr style=\"text-align: right;\">\n",
              "      <th></th>\n",
              "      <th>average excess returns</th>\n",
              "      <th>vol</th>\n",
              "      <th>mmd</th>\n",
              "    </tr>\n",
              "  </thead>\n",
              "  <tbody>\n",
              "    <tr>\n",
              "      <th>count</th>\n",
              "      <td>12.000000</td>\n",
              "      <td>12.000000</td>\n",
              "      <td>1.200000e+01</td>\n",
              "    </tr>\n",
              "    <tr>\n",
              "      <th>mean</th>\n",
              "      <td>0.413475</td>\n",
              "      <td>0.139696</td>\n",
              "      <td>2.267245e+07</td>\n",
              "    </tr>\n",
              "    <tr>\n",
              "      <th>std</th>\n",
              "      <td>0.296569</td>\n",
              "      <td>0.118685</td>\n",
              "      <td>7.735597e+07</td>\n",
              "    </tr>\n",
              "    <tr>\n",
              "      <th>min</th>\n",
              "      <td>0.062044</td>\n",
              "      <td>0.005571</td>\n",
              "      <td>0.000000e+00</td>\n",
              "    </tr>\n",
              "    <tr>\n",
              "      <th>25%</th>\n",
              "      <td>0.176272</td>\n",
              "      <td>0.066128</td>\n",
              "      <td>0.000000e+00</td>\n",
              "    </tr>\n",
              "    <tr>\n",
              "      <th>50%</th>\n",
              "      <td>0.372622</td>\n",
              "      <td>0.130125</td>\n",
              "      <td>1.795075e+00</td>\n",
              "    </tr>\n",
              "    <tr>\n",
              "      <th>75%</th>\n",
              "      <td>0.643336</td>\n",
              "      <td>0.161179</td>\n",
              "      <td>1.079027e+04</td>\n",
              "    </tr>\n",
              "    <tr>\n",
              "      <th>max</th>\n",
              "      <td>0.960004</td>\n",
              "      <td>0.387414</td>\n",
              "      <td>2.682870e+08</td>\n",
              "    </tr>\n",
              "  </tbody>\n",
              "</table>\n",
              "</div>"
            ],
            "text/plain": [
              "       average excess returns        vol           mmd\n",
              "count               12.000000  12.000000  1.200000e+01\n",
              "mean                 0.413475   0.139696  2.267245e+07\n",
              "std                  0.296569   0.118685  7.735597e+07\n",
              "min                  0.062044   0.005571  0.000000e+00\n",
              "25%                  0.176272   0.066128  0.000000e+00\n",
              "50%                  0.372622   0.130125  1.795075e+00\n",
              "75%                  0.643336   0.161179  1.079027e+04\n",
              "max                  0.960004   0.387414  2.682870e+08"
            ]
          },
          "metadata": {
            "tags": []
          }
        }
      ]
    },
    {
      "cell_type": "markdown",
      "metadata": {
        "collapsed": false,
        "id": "KMTwlIa6ZuzN",
        "colab_type": "text"
      },
      "source": [
        "## (3) Consider Market Impact"
      ]
    },
    {
      "cell_type": "markdown",
      "metadata": {
        "collapsed": false,
        "id": "0xAwyzMNZuzN",
        "colab_type": "text"
      },
      "source": [
        "Define market impact model\n",
        "$\\text{tcost} = \\alpha \\left| \\Delta w_t \\right|^2 +  \\beta \\sigma \\sqrt{\\frac{Q}{T} }$\n",
        "where  $Q$ is the number of shares to be traded, $V$ is daily volume. Both $\\alpha$ and $\\beta$ are two constant parameters, $\\alpha$ represents the fixed cost per share, and $\\beta$ is the coefficient expressing the liquidity of the stock.\n",
        "\n",
        " \n",
        "The objective function can be formulated as\n",
        "$\\max_w \\mathbb{E}(w R) - \\frac{\\kappa}{2} \\mathbb{Var} (w R) - \\alpha \\left| \\Delta w_t \\right|^2 +  \\beta \\sigma \\sqrt{\\frac{Q}{T} }$\n"
      ]
    },
    {
      "cell_type": "code",
      "metadata": {
        "pycharm": {
          "name": "#%%\n",
          "is_executing": false
        },
        "id": "TeX_rp9hZuzN",
        "colab_type": "code",
        "colab": {}
      },
      "source": [
        "def get_total_market_volume(date, tks, prep_df):\n",
        "    overall_volume = 0.0\n",
        "    for tk in tks:\n",
        "        overall_volume += max(abs(prep_df.at[date, tk + '_prc'] * prep_df.at[date, tk + '_vol']), 0.0)\n",
        "    return overall_volume"
      ],
      "execution_count": 0,
      "outputs": []
    },
    {
      "cell_type": "code",
      "metadata": {
        "pycharm": {
          "name": "#%%\n",
          "is_executing": false
        },
        "id": "ls0N5sn0ZuzO",
        "colab_type": "code",
        "colab": {}
      },
      "source": [
        "def get_weight_change(w, prev_w):\n",
        "    weight_delta = 0.0\n",
        "    n = len(w)\n",
        "    if prev_w is None:\n",
        "        for i in range(n):\n",
        "            weight_delta += abs(w[i])\n",
        "    else:\n",
        "        for i in range(n):\n",
        "            try:\n",
        "                if np.sign(w[i]) == np.sign(prev_w[i]):\n",
        "                    weight_delta += abs(w[i] - prev_w[i])\n",
        "                else:\n",
        "                    weight_delta += abs(w[i]) + abs(prev_w[i])\n",
        "            except:\n",
        "                pass\n",
        "    return weight_delta"
      ],
      "execution_count": 0,
      "outputs": []
    },
    {
      "cell_type": "code",
      "metadata": {
        "pycharm": {
          "name": "#%%\n",
          "is_executing": false
        },
        "id": "50Ww38UfZuzP",
        "colab_type": "code",
        "colab": {}
      },
      "source": [
        "def markovitz_plus_market_impact_weights(date, prep_df, r, pnl, prev_w):\n",
        "    # all avaiable trading for curr date\n",
        "    cov, rets, tks = compute_covariance(date, prep_df) \n",
        "    adj_returns = np.array(rets) - np.ones(len(rets)) * r\n",
        "    SPY_var = prep_df.at[date, 'SPY_var'] / rolling_window\n",
        "    kappa = (prep_df.at[date, 'SPY_mean'] - r) / SPY_var\n",
        "\n",
        "\n",
        "    def objective(w):\n",
        "        weight_change = get_weight_change(w, prev_w)\n",
        "        market_impact = weight_change ** 2 + 100 * np.sqrt((pnl * weight_change) / get_total_market_volume(date, tks, prep_df))\n",
        "        return 0.5 * kappa * w.transpose().dot(cov).dot(w) + market_impact - np.dot(w, adj_returns)\n",
        "\n",
        "    w0 = [1.0 / len(rets) for _ in range(len(rets))]\n",
        "    e = np.ones(len(rets))\n",
        "    bnds = [(0, 1) for _ in range(len(rets))]\n",
        "    const = ({'type': 'eq', 'fun': lambda w: np.dot(w, e) - 1.})\n",
        "    solution = minimize(fun=objective, x0=w0, method='SLSQP', bounds=bnds, constraints=const)\n",
        "    w = solution.x.round(6)\n",
        "\n",
        "    return w, tks\n",
        "\n",
        "\n",
        "\n",
        "def calc_portfolio_returns(date, w, tks, df):\n",
        "    rets = []\n",
        "    for tk in tks:\n",
        "        try:\n",
        "            rets.append(df.at[date, tk + \"_ret\"])\n",
        "        except:\n",
        "            rets.append(0.0)\n",
        "    portfolio_return = np.array(rets).dot(w)\n",
        "    return portfolio_return\n",
        "\n",
        "\n",
        "\n",
        "def track_portfolio_performance_1(start, end, prep_df=portfolio_prep_df, daily_r=r):\n",
        "    pnl = 100.\n",
        "    portfolio_history = {}\n",
        "    prev_w = None\n",
        "    pnl_list =[100.]\n",
        "\n",
        "    for i in range(start, end):\n",
        "        curr_day = all_dates[i]\n",
        "        next_day = get_next_day(curr_day)\n",
        "\n",
        "        if i == start:\n",
        "            portfolio_history[curr_day] = [0.0, pnl]\n",
        "\n",
        "        w, tks = markovitz_plus_market_impact_weights(next_day, prep_df, daily_r, pnl, prev_w)\n",
        "        portfolio_ret = calc_portfolio_returns(next_day, w, tks, prep_df)\n",
        "        pnl += pnl * portfolio_ret\n",
        "        pnl_list.append(pnl)\n",
        "        try:\n",
        "            portfolio_history[next_day] = [portfolio_ret, pnl, MDD(pnl_list)]\n",
        "        except:\n",
        "            portfolio_history[next_day] = [portfolio_ret, pnl, 0]\n",
        "        prev_w = w\n",
        "\n",
        "    return portfolio_history"
      ],
      "execution_count": 0,
      "outputs": []
    },
    {
      "cell_type": "code",
      "metadata": {
        "id": "9yCOCb2gC-zW",
        "colab_type": "code",
        "colab": {}
      },
      "source": [
        "index_2009 =  find_montly_index('2009')\n",
        "res_2009_mi = dict()\n",
        "for mo in index_2010.keys():\n",
        "    start, end = min(index_2009[mo]), max(index_2009[mo])\n",
        "    portfolio = track_portfolio_performance_1(start, end)\n",
        "    portfolio_df = pd.DataFrame.from_dict(portfolio, orient='index')\n",
        "    portfolio_df.columns = [\"ret\", \"pnl\", \"mmd\"]\n",
        "    res_2009_mi[mo] = []\n",
        "    res_2009_mi[mo].append(portfolio_df['ret'].mean() - r)\n",
        "    res_2009_mi[mo].append(portfolio_df['ret'].std())\n",
        "    res_2009_mi[mo].append(portfolio_df['mmd'].max())\n"
      ],
      "execution_count": 0,
      "outputs": []
    },
    {
      "cell_type": "code",
      "metadata": {
        "id": "yLBLn6liDANi",
        "colab_type": "code",
        "colab": {
          "base_uri": "https://localhost:8080/",
          "height": 218
        },
        "outputId": "26ced730-72a5-4062-8cd2-9c5eb4c610b9"
      },
      "source": [
        "df_2009_2 = pd.DataFrame(res_2009_mi, index=['average excess return', 'vol', 'mmd']).T\n",
        "df_2009_2['sharpe ratio'] = df_2009_2['average excess return'] - df_2009_2['vol']\n",
        "display(df_2009_2)\n",
        "display(df_2009_2.describe())"
      ],
      "execution_count": 40,
      "outputs": [
        {
          "output_type": "error",
          "ename": "NameError",
          "evalue": "ignored",
          "traceback": [
            "\u001b[0;31m---------------------------------------------------------------------------\u001b[0m",
            "\u001b[0;31mNameError\u001b[0m                                 Traceback (most recent call last)",
            "\u001b[0;32m<ipython-input-40-e6771060bb26>\u001b[0m in \u001b[0;36m<module>\u001b[0;34m()\u001b[0m\n\u001b[0;32m----> 1\u001b[0;31m \u001b[0mdf_2009_2\u001b[0m \u001b[0;34m=\u001b[0m \u001b[0mpd\u001b[0m\u001b[0;34m.\u001b[0m\u001b[0mDataFrame\u001b[0m\u001b[0;34m(\u001b[0m\u001b[0mres_2009_mi\u001b[0m\u001b[0;34m,\u001b[0m \u001b[0mindex\u001b[0m\u001b[0;34m=\u001b[0m\u001b[0;34m[\u001b[0m\u001b[0;34m'average excess return'\u001b[0m\u001b[0;34m,\u001b[0m \u001b[0;34m'vol'\u001b[0m\u001b[0;34m,\u001b[0m \u001b[0;34m'mmd'\u001b[0m\u001b[0;34m]\u001b[0m\u001b[0;34m)\u001b[0m\u001b[0;34m.\u001b[0m\u001b[0mT\u001b[0m\u001b[0;34m\u001b[0m\u001b[0;34m\u001b[0m\u001b[0m\n\u001b[0m\u001b[1;32m      2\u001b[0m \u001b[0mdf_2009_2\u001b[0m\u001b[0;34m[\u001b[0m\u001b[0;34m'sharpe ratio'\u001b[0m\u001b[0;34m]\u001b[0m \u001b[0;34m=\u001b[0m \u001b[0mdf_2009_2\u001b[0m\u001b[0;34m[\u001b[0m\u001b[0;34m'average excess return'\u001b[0m\u001b[0;34m]\u001b[0m \u001b[0;34m-\u001b[0m \u001b[0mdf_2009_2\u001b[0m\u001b[0;34m[\u001b[0m\u001b[0;34m'vol'\u001b[0m\u001b[0;34m]\u001b[0m\u001b[0;34m\u001b[0m\u001b[0;34m\u001b[0m\u001b[0m\n\u001b[1;32m      3\u001b[0m \u001b[0mdisplay\u001b[0m\u001b[0;34m(\u001b[0m\u001b[0mdf_2009_2\u001b[0m\u001b[0;34m)\u001b[0m\u001b[0;34m\u001b[0m\u001b[0;34m\u001b[0m\u001b[0m\n\u001b[1;32m      4\u001b[0m \u001b[0mdisplay\u001b[0m\u001b[0;34m(\u001b[0m\u001b[0mdf_2009_2\u001b[0m\u001b[0;34m.\u001b[0m\u001b[0mdescribe\u001b[0m\u001b[0;34m(\u001b[0m\u001b[0;34m)\u001b[0m\u001b[0;34m)\u001b[0m\u001b[0;34m\u001b[0m\u001b[0;34m\u001b[0m\u001b[0m\n",
            "\u001b[0;31mNameError\u001b[0m: name 'res_2009_mi' is not defined"
          ]
        }
      ]
    },
    {
      "cell_type": "code",
      "metadata": {
        "id": "PqlsYjGttrjS",
        "colab_type": "code",
        "colab": {}
      },
      "source": [
        "index_2010 =  find_montly_index('2010')\n",
        "res_2010_mi = dict()\n",
        "for mo in index_2010.keys():\n",
        "    start, end = min(index_2010[mo]), max(index_2010[mo])\n",
        "    portfolio = track_portfolio_performance_1(start, end)\n",
        "    portfolio_df = pd.DataFrame.from_dict(portfolio, orient='index')\n",
        "    portfolio_df.columns = [\"ret\", \"pnl\", \"mmd\"]\n",
        "    res_2010_mi[mo] = []\n",
        "    res_2010_mi[mo].append(portfolio_df['ret'].mean() - r)\n",
        "    res_2010_mi[mo].append(portfolio_df['ret'].std())\n",
        "    res_2010_mi[mo].append(portfolio_df['mmd'].max())\n"
      ],
      "execution_count": 0,
      "outputs": []
    },
    {
      "cell_type": "code",
      "metadata": {
        "id": "wOfus89VwR0G",
        "colab_type": "code",
        "colab": {
          "base_uri": "https://localhost:8080/"
        },
        "outputId": "89e02d4c-1f25-4130-fa4d-c114d7949534"
      },
      "source": [
        "df_2010_2 = pd.DataFrame(res_2010_mi, index=['average excess return', 'vol', 'mmd']).T\n",
        "df_2010_2['sharpe ratio'] = df_2010_2['average excess return'] - df_2010_2['vol']\n",
        "display(df_2010_2)\n",
        "display(df_2010_2.describe())"
      ],
      "execution_count": 41,
      "outputs": [
        {
          "output_type": "display_data",
          "data": {
            "text/html": [
              "<div>\n",
              "<style scoped>\n",
              "    .dataframe tbody tr th:only-of-type {\n",
              "        vertical-align: middle;\n",
              "    }\n",
              "\n",
              "    .dataframe tbody tr th {\n",
              "        vertical-align: top;\n",
              "    }\n",
              "\n",
              "    .dataframe thead th {\n",
              "        text-align: right;\n",
              "    }\n",
              "</style>\n",
              "<table border=\"1\" class=\"dataframe\">\n",
              "  <thead>\n",
              "    <tr style=\"text-align: right;\">\n",
              "      <th></th>\n",
              "      <th>average excess return</th>\n",
              "      <th>vol</th>\n",
              "      <th>mmd</th>\n",
              "      <th>sharpe ratio</th>\n",
              "    </tr>\n",
              "  </thead>\n",
              "  <tbody>\n",
              "    <tr>\n",
              "      <th>01</th>\n",
              "      <td>0.024896</td>\n",
              "      <td>0.050912</td>\n",
              "      <td>4.299144</td>\n",
              "      <td>-0.026015</td>\n",
              "    </tr>\n",
              "    <tr>\n",
              "      <th>02</th>\n",
              "      <td>0.403144</td>\n",
              "      <td>0.321397</td>\n",
              "      <td>0.000000</td>\n",
              "      <td>0.081747</td>\n",
              "    </tr>\n",
              "    <tr>\n",
              "      <th>03</th>\n",
              "      <td>0.098089</td>\n",
              "      <td>0.183128</td>\n",
              "      <td>2.187180</td>\n",
              "      <td>-0.085038</td>\n",
              "    </tr>\n",
              "    <tr>\n",
              "      <th>04</th>\n",
              "      <td>0.063886</td>\n",
              "      <td>0.033109</td>\n",
              "      <td>2.177967</td>\n",
              "      <td>0.030777</td>\n",
              "    </tr>\n",
              "    <tr>\n",
              "      <th>05</th>\n",
              "      <td>0.241920</td>\n",
              "      <td>0.335342</td>\n",
              "      <td>0.000000</td>\n",
              "      <td>-0.093422</td>\n",
              "    </tr>\n",
              "    <tr>\n",
              "      <th>06</th>\n",
              "      <td>0.154932</td>\n",
              "      <td>0.102090</td>\n",
              "      <td>0.000000</td>\n",
              "      <td>0.052842</td>\n",
              "    </tr>\n",
              "    <tr>\n",
              "      <th>07</th>\n",
              "      <td>0.401760</td>\n",
              "      <td>0.807520</td>\n",
              "      <td>227.573408</td>\n",
              "      <td>-0.405760</td>\n",
              "    </tr>\n",
              "    <tr>\n",
              "      <th>08</th>\n",
              "      <td>0.030106</td>\n",
              "      <td>0.052722</td>\n",
              "      <td>3.730956</td>\n",
              "      <td>-0.022616</td>\n",
              "    </tr>\n",
              "    <tr>\n",
              "      <th>09</th>\n",
              "      <td>0.253840</td>\n",
              "      <td>0.972971</td>\n",
              "      <td>28.289371</td>\n",
              "      <td>-0.719132</td>\n",
              "    </tr>\n",
              "    <tr>\n",
              "      <th>10</th>\n",
              "      <td>0.042600</td>\n",
              "      <td>0.040386</td>\n",
              "      <td>2.354573</td>\n",
              "      <td>0.002214</td>\n",
              "    </tr>\n",
              "    <tr>\n",
              "      <th>11</th>\n",
              "      <td>0.036487</td>\n",
              "      <td>0.043073</td>\n",
              "      <td>3.287763</td>\n",
              "      <td>-0.006586</td>\n",
              "    </tr>\n",
              "    <tr>\n",
              "      <th>12</th>\n",
              "      <td>0.040318</td>\n",
              "      <td>0.041774</td>\n",
              "      <td>2.701327</td>\n",
              "      <td>-0.001456</td>\n",
              "    </tr>\n",
              "  </tbody>\n",
              "</table>\n",
              "</div>"
            ],
            "text/plain": [
              "    average excess return       vol         mmd  sharpe ratio\n",
              "01               0.024896  0.050912    4.299144     -0.026015\n",
              "02               0.403144  0.321397    0.000000      0.081747\n",
              "03               0.098089  0.183128    2.187180     -0.085038\n",
              "04               0.063886  0.033109    2.177967      0.030777\n",
              "05               0.241920  0.335342    0.000000     -0.093422\n",
              "06               0.154932  0.102090    0.000000      0.052842\n",
              "07               0.401760  0.807520  227.573408     -0.405760\n",
              "08               0.030106  0.052722    3.730956     -0.022616\n",
              "09               0.253840  0.972971   28.289371     -0.719132\n",
              "10               0.042600  0.040386    2.354573      0.002214\n",
              "11               0.036487  0.043073    3.287763     -0.006586\n",
              "12               0.040318  0.041774    2.701327     -0.001456"
            ]
          },
          "metadata": {
            "tags": []
          }
        },
        {
          "output_type": "display_data",
          "data": {
            "text/html": [
              "<div>\n",
              "<style scoped>\n",
              "    .dataframe tbody tr th:only-of-type {\n",
              "        vertical-align: middle;\n",
              "    }\n",
              "\n",
              "    .dataframe tbody tr th {\n",
              "        vertical-align: top;\n",
              "    }\n",
              "\n",
              "    .dataframe thead th {\n",
              "        text-align: right;\n",
              "    }\n",
              "</style>\n",
              "<table border=\"1\" class=\"dataframe\">\n",
              "  <thead>\n",
              "    <tr style=\"text-align: right;\">\n",
              "      <th></th>\n",
              "      <th>average excess return</th>\n",
              "      <th>vol</th>\n",
              "      <th>mmd</th>\n",
              "      <th>sharpe ratio</th>\n",
              "    </tr>\n",
              "  </thead>\n",
              "  <tbody>\n",
              "    <tr>\n",
              "      <th>count</th>\n",
              "      <td>12.000000</td>\n",
              "      <td>12.000000</td>\n",
              "      <td>12.000000</td>\n",
              "      <td>12.000000</td>\n",
              "    </tr>\n",
              "    <tr>\n",
              "      <th>mean</th>\n",
              "      <td>0.149332</td>\n",
              "      <td>0.248702</td>\n",
              "      <td>23.050141</td>\n",
              "      <td>-0.099371</td>\n",
              "    </tr>\n",
              "    <tr>\n",
              "      <th>std</th>\n",
              "      <td>0.142479</td>\n",
              "      <td>0.320218</td>\n",
              "      <td>64.863365</td>\n",
              "      <td>0.231775</td>\n",
              "    </tr>\n",
              "    <tr>\n",
              "      <th>min</th>\n",
              "      <td>0.024896</td>\n",
              "      <td>0.033109</td>\n",
              "      <td>0.000000</td>\n",
              "      <td>-0.719132</td>\n",
              "    </tr>\n",
              "    <tr>\n",
              "      <th>25%</th>\n",
              "      <td>0.039360</td>\n",
              "      <td>0.042748</td>\n",
              "      <td>1.633475</td>\n",
              "      <td>-0.087134</td>\n",
              "    </tr>\n",
              "    <tr>\n",
              "      <th>50%</th>\n",
              "      <td>0.080988</td>\n",
              "      <td>0.077406</td>\n",
              "      <td>2.527950</td>\n",
              "      <td>-0.014601</td>\n",
              "    </tr>\n",
              "    <tr>\n",
              "      <th>75%</th>\n",
              "      <td>0.244900</td>\n",
              "      <td>0.324883</td>\n",
              "      <td>3.873003</td>\n",
              "      <td>0.009354</td>\n",
              "    </tr>\n",
              "    <tr>\n",
              "      <th>max</th>\n",
              "      <td>0.403144</td>\n",
              "      <td>0.972971</td>\n",
              "      <td>227.573408</td>\n",
              "      <td>0.081747</td>\n",
              "    </tr>\n",
              "  </tbody>\n",
              "</table>\n",
              "</div>"
            ],
            "text/plain": [
              "       average excess return        vol         mmd  sharpe ratio\n",
              "count              12.000000  12.000000   12.000000     12.000000\n",
              "mean                0.149332   0.248702   23.050141     -0.099371\n",
              "std                 0.142479   0.320218   64.863365      0.231775\n",
              "min                 0.024896   0.033109    0.000000     -0.719132\n",
              "25%                 0.039360   0.042748    1.633475     -0.087134\n",
              "50%                 0.080988   0.077406    2.527950     -0.014601\n",
              "75%                 0.244900   0.324883    3.873003      0.009354\n",
              "max                 0.403144   0.972971  227.573408      0.081747"
            ]
          },
          "metadata": {
            "tags": []
          }
        }
      ]
    },
    {
      "cell_type": "code",
      "metadata": {
        "id": "aCSI3MznDOgK",
        "colab_type": "code",
        "colab": {}
      },
      "source": [
        "index_2011 =  find_montly_index('2011')\n",
        "res_2011_mi = dict()\n",
        "for mo in index_2011.keys():\n",
        "    start, end = min(index_2011[mo]), max(index_2011[mo])\n",
        "    portfolio = track_portfolio_performance_1(start, end)\n",
        "    portfolio_df = pd.DataFrame.from_dict(portfolio, orient='index')\n",
        "    portfolio_df.columns = [\"ret\", \"pnl\", \"mmd\"]\n",
        "    res_2011_mi[mo] = []\n",
        "    res_2011_mi[mo].append(portfolio_df['ret'].mean() - r)\n",
        "    res_2011_mi[mo].append(portfolio_df['ret'].std())\n",
        "    res_2011_mi[mo].append(portfolio_df['mmd'].max())\n"
      ],
      "execution_count": 0,
      "outputs": []
    },
    {
      "cell_type": "code",
      "metadata": {
        "id": "Z_v2r5AdDQrd",
        "colab_type": "code",
        "colab": {}
      },
      "source": [
        "df_2011_2 = pd.DataFrame(res_2011_mi, index=['average excess return', 'vol', 'mmd']).T\n",
        "df_2011_2['sharpe ratio'] = df_2011_2['average excess return'] - df_2011_2['vol']\n",
        "display(df_2011_2)\n",
        "display(df_2011_2.describe())"
      ],
      "execution_count": 0,
      "outputs": []
    },
    {
      "cell_type": "markdown",
      "metadata": {
        "id": "pKJNsrmQB5Fv",
        "colab_type": "text"
      },
      "source": [
        "By observation, considering the market impact results in reduced average returns a lot (from 23% to 14%) and reduced vol (from 38% to 24%). Regarding the maximum drawdown value, penalize the market impact also reduced the maximum draw down significantly. The overall performance gets worst, becasue reducing the average excess return is the most dominant force."
      ]
    }
  ]
}